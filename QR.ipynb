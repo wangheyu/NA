{
 "cells": [
  {
   "cell_type": "markdown",
   "id": "d7196195-993f-4829-8d1b-c0009b015f62",
   "metadata": {},
   "source": [
    "# 演示 QR 分解下的最小二乘实现"
   ]
  },
  {
   "cell_type": "code",
   "execution_count": 1,
   "id": "8b0bcf4b-b1c0-46f2-900d-7b7017d16147",
   "metadata": {},
   "outputs": [],
   "source": [
    "import numpy as np\n",
    "from matplotlib import pyplot as plt"
   ]
  },
  {
   "cell_type": "markdown",
   "id": "43ed6e8c-9341-4762-ab5c-515b3e3d022a",
   "metadata": {},
   "source": [
    "\n",
    "\n",
    "还是同样的问题：\n",
    "\n",
    "| x | 1   | 2   | 3   | 4   | 5   | 6   | 7   | 8   | 9   | 10  | 11  | 12  |\n",
    "|---|-----|-----|-----|-----|-----|-----|-----|-----|-----|-----|-----|-----|\n",
    "| y | 256 | 201 | 159 | 61  | 77  | 40  | 17  | 25  | 103 | 156 | 222 | 345 |\n",
    "\n",
    "回归成一条二次曲线：\n",
    "$$\n",
    "y = a_0 + a_1 x + a_2 x^2.\n",
    "$$\n",
    "\n",
    "先输入系统："
   ]
  },
  {
   "cell_type": "code",
   "execution_count": 2,
   "id": "4f4d8570-f173-4bb8-88ef-1b0ec753f61f",
   "metadata": {},
   "outputs": [],
   "source": [
    "x = np.linspace(1,12,12)\n",
    "y = np.array([256, 201, 159, 61, 77, 40, 17, 25, 103, 156, 222, 345])"
   ]
  },
  {
   "cell_type": "markdown",
   "id": "8178fb84-6ac2-48f4-aeaa-5d8c2512f945",
   "metadata": {},
   "source": [
    "根据离散最小二乘问题的定义，我们给出优化问题：\n",
    "$$\n",
    "\\mathrm{argmin}_{a_i \\in \\mathbb{R}}\\sum_{i=1}^{12} \\left(y_i - \\sum_{j=0}^2 a_j x_i^j\\right)^2.  \\tag{1}\n",
    "$$\n",
    "如果用经典线性最小二乘算法，先计算其正规方程组，有："
   ]
  },
  {
   "cell_type": "markdown",
   "id": "08754b2e-d75d-4109-9e5e-fda18b3245a8",
   "metadata": {},
   "source": [
    "$$\n",
    "\\begin{align*}\n",
    "G(1, x, x^2) \n",
    "  &= \\begin{bmatrix} \n",
    "      \\langle 1,1 \\rangle & \\langle 1,x \\rangle & \\langle 1,x^2 \\rangle \\\\ \n",
    "      \\langle x,1 \\rangle & \\langle x,x \\rangle & \\langle x,x^2 \\rangle \\\\ \n",
    "      \\langle x^2,1 \\rangle & \\langle x^2,x \\rangle & \\langle x^2,x^2 \\rangle \n",
    "    \\end{bmatrix} = \\begin{bmatrix} 12 & 78 & 650 \\\\ 78 & 650 & 6084 \\\\ 650 & 6084 & 60710 \\end{bmatrix}, \\\\\n",
    "c &= \\begin{bmatrix} \n",
    "         \\langle y, 1 \\rangle \\\\ \n",
    "         \\langle y, x \\rangle \\\\ \n",
    "         \\langle y, x^2 \\rangle \n",
    "       \\end{bmatrix} \n",
    "     = \\begin{bmatrix} \n",
    "    \\sum_{i=1}^{12} y_i \\\\ \n",
    "         \\sum_{i=1}^{12} y_i x_i \\\\ \n",
    "         \\sum_{i=1}^{12} y_i x_i^2 \n",
    "       \\end{bmatrix} \n",
    "     = \\begin{bmatrix} 1662 \\\\ 11392 \\\\ 109750 \\end{bmatrix}. \n",
    "\\end{align*}    \n",
    "$$\n",
    "进而有\n",
    "$$\n",
    "\\begin{bmatrix} 12 & 78 & 650 \\\\ 78 & 650 & 6084 \\\\ 650 & 6084 & 60710 \\end{bmatrix}\\begin{bmatrix} a_0 \\\\ a_1 \\\\ a_2 \\end{bmatrix}\n",
    "= \\begin{bmatrix} 1662 \\\\ 11392 \\\\ 109750 \\end{bmatrix}. \n",
    "$$\n",
    "以上正规方程组的另一个线性化解释如下：显然，优化问题 (1) 有最优解：\n",
    "$$\n",
    "\\sum_{j=0}^2 a_j x_i^j = y_i, i = 1, 2, \\cdots, 12. \\tag{2}\n",
    "$$\n",
    "带入实际数据 $x_i, y_i$, $i = 1, 2, \\cdots, 12$, 为\n",
    "$$\n",
    "\\begin{align*}\n",
    "a_0 + a_1 + a_2 &= 256 \\\\\n",
    "a_0 + 2 a_1 + 4 a_2 &= 201 \\\\\n",
    "\\cdots & \\\\\n",
    "a_0 + 12 a_1 + 144 a_2 &= 345\n",
    "\\end{align*}\n",
    "$$\n",
    "可以看作超定线性方程组\n",
    "$$\n",
    "X a = y,\n",
    "$$\n",
    "这里\n",
    "$$\n",
    "X = \\begin{bmatrix}\n",
    "1 & 1 & 1 \\\\\n",
    "1 & 2 & 4 \\\\\n",
    "\\vdots & \\vdots & \\vdots \\\\\n",
    "1 & 12 & 144\n",
    "\\end{bmatrix}, \n",
    "a = \\begin{bmatrix}a_0 \\\\ a_1 \\\\ a_2\\end{bmatrix},\n",
    "y = \\begin{bmatrix}256 \\\\ 201 \\\\ \\vdots \\\\ 245\\end{bmatrix}.\n",
    "$$\n",
    "两边同乘以 $X^T$, 有\n",
    "$$\n",
    "X^TX a = X^Ty,\n",
    "$$\n",
    "这就是正规方程组。因此其解\n",
    "$$\n",
    "a = (X^TX)^{-1}X^Ty\n",
    "$$\n",
    "就是超定线性问题 (2) 的广义逆解。\n",
    "\n",
    "下面构建正规方程组："
   ]
  },
  {
   "cell_type": "code",
   "execution_count": 3,
   "id": "47b3af43-6c78-4a8c-b660-aee269bd4fdf",
   "metadata": {},
   "outputs": [
    {
     "name": "stdout",
     "output_type": "stream",
     "text": [
      "G = [[12.0, 78.0, 650.0], [78.0, 650.0, 6084.0], [650.0, 6084.0, 60710.0]] \n",
      "c = [1662.0, 11392.0, 109750.0]\n"
     ]
    }
   ],
   "source": [
    "N = 2   # 多项式最高阶数\n",
    "s = [np.sum(x**i) for i in range(0, N * 2 + 1)]\n",
    "G = [[s[i], s[i + 1], s[i + 2]] for i in range(0, N + 1)]\n",
    "c = [np.sum(x**i*y) for i in range(0, N + 1)]\n",
    "print(\"G =\", G, \"\\nc =\", c)"
   ]
  },
  {
   "cell_type": "markdown",
   "id": "f8d71442-81d6-4246-8dd8-bb8763dfe465",
   "metadata": {},
   "source": [
    "直接求解："
   ]
  },
  {
   "cell_type": "code",
   "execution_count": 4,
   "id": "12d08613-6cf3-4728-a6c0-1c7bb83dd20b",
   "metadata": {},
   "outputs": [
    {
     "name": "stdout",
     "output_type": "stream",
     "text": [
      "[ 386.         -113.42657343    9.04195804]\n"
     ]
    }
   ],
   "source": [
    "a = np.linalg.solve(G,c)\n",
    "print(a)"
   ]
  },
  {
   "cell_type": "markdown",
   "id": "51e9fd16-1c8f-4fda-8065-dd5836eafb3c",
   "metadata": {},
   "source": [
    "绘制解："
   ]
  },
  {
   "cell_type": "code",
   "execution_count": 5,
   "id": "04178220-b7cf-4fca-80fa-95a5205e4b11",
   "metadata": {},
   "outputs": [
    {
     "data": {
      "text/plain": [
       "<matplotlib.legend.Legend at 0x7efee1b0bfe0>"
      ]
     },
     "execution_count": 5,
     "metadata": {},
     "output_type": "execute_result"
    },
    {
     "data": {
      "image/png": "[encoded data removed]",
      "text/plain": [
       "<Figure size 640x480 with 1 Axes>"
      ]
     },
     "metadata": {},
     "output_type": "display_data"
    }
   ],
   "source": [
    "plt.plot(x,y,'.', label=\"Samples\")\n",
    "xh = np.linspace(1,12,100)\n",
    "yh = a[0] + a[1]*xh + a[2]*xh**2\n",
    "plt.plot(xh,yh, label=\"Fitting Curve\")\n",
    "plt.legend(loc='upper left')"
   ]
  },
  {
   "cell_type": "markdown",
   "id": "f91dc189-ec48-48c8-8e7d-65a672e4ab75",
   "metadata": {},
   "source": [
    "这个方法由于正规方程组的条件数问题，不适用于高阶数的曲线拟合。而 QR 分解算法则很好地解决了这个问题。直接从 (2) 入手，对 $X$ 做 QR 分解，具体方法可以是 Householder 变换，也即将\n",
    "$$\n",
    "x = (x_1, x_2, \\cdots, x_n)^T\n",
    "$$\n",
    "做正交变换为\n",
    "$$\n",
    "y = (*, 0, \\cdots, 0)^T.\n",
    "$$\n",
    "这里的 Householder 变换矩阵定义为：\n",
    "$$\n",
    "H(w) = I - 2 ww^T,\n",
    "$$\n",
    "可以视为做以 $w = (y - x) / \\|y - x\\|_2$ 为法向量的镜面变换。如果是复向量则将转置变为共轭转置。显然这是一个正交变换。因此上面 $y$ 中的 $*$ 的值应该取为 $\\|x\\|_2$. 以 (2) 为例，我们先将第一列\n",
    "$$\n",
    "(1, 1, \\cdots, 1)^T\n",
    "$$\n",
    "变换为\n",
    "$$\n",
    "(*, 0, \\cdots, 0)^T.\n",
    "$$\n",
    "显然这里 $*$ 取 $\\sqrt{12}$."
   ]
  },
  {
   "cell_type": "code",
   "execution_count": 6,
   "id": "4156cc59-bd3a-4c8d-a1e4-2fde2d08856c",
   "metadata": {},
   "outputs": [
    {
     "name": "stdout",
     "output_type": "stream",
     "text": [
      "[[ 3.46410162e+00  2.25166605e+01  1.87638837e+02]\n",
      " [ 5.55111512e-17 -6.73205081e+00 -7.17431578e+01]\n",
      " [ 2.22044605e-16 -5.73205081e+00 -6.67431578e+01]\n",
      " [ 5.55111512e-17 -4.73205081e+00 -5.97431578e+01]\n",
      " [ 2.22044605e-16 -3.73205081e+00 -5.07431578e+01]\n",
      " [-1.66533454e-16 -2.73205081e+00 -3.97431578e+01]\n",
      " [ 0.00000000e+00 -1.73205081e+00 -2.67431578e+01]\n",
      " [-1.66533454e-16 -7.32050808e-01 -1.17431578e+01]\n",
      " [ 0.00000000e+00  2.67949192e-01  5.25684219e+00]\n",
      " [-1.11022302e-16  1.26794919e+00  2.42568422e+01]\n",
      " [ 0.00000000e+00  2.26794919e+00  4.52568422e+01]\n",
      " [-5.55111512e-17  3.26794919e+00  6.82568422e+01]]\n"
     ]
    }
   ],
   "source": [
    "n = 12\n",
    "X = np.array([np.ones(n), x, x**2])\n",
    "X = X.T\n",
    "\n",
    "xH = X[:,0]\n",
    "yH = np.zeros(np.size(xH))\n",
    "yH[0] = np.linalg.norm(xH)\n",
    "\n",
    "w = yH - xH\n",
    "w = w / np.linalg.norm(w)\n",
    "H1 = np.eye(n) - 2 * np.dot(w.reshape(n,1),w.reshape(1,n))\n",
    "X1 = np.dot(H1, X)\n",
    "print(X1)"
   ]
  },
  {
   "cell_type": "markdown",
   "id": "be93a578-08b8-4d7b-8a30-f6cc6787dd67",
   "metadata": {},
   "source": [
    "对第二列, 我们只需将其消成\n",
    "$$\n",
    "(*, *, 0, \\cdots, 0).\n",
    "$$\n",
    "也就是只需要一个右下角 $(n - 1) \\times (n - 1)$ 是 Householder 阵就可以了。 "
   ]
  },
  {
   "cell_type": "code",
   "execution_count": 7,
   "id": "fe7755f8-97c2-4ea8-b70c-a1b46153b976",
   "metadata": {},
   "outputs": [
    {
     "name": "stdout",
     "output_type": "stream",
     "text": [
      "[[ 3.46410162e+00  2.25166605e+01  1.87638837e+02]\n",
      " [-2.07649565e-16  1.19582607e+01  1.55457390e+02]\n",
      " [ 1.41336983e-16  8.88178420e-16  2.93599538e+00]\n",
      " [-1.11164100e-17  8.88178420e-16 -2.22006456e+00]\n",
      " [ 1.69497104e-16  1.33226763e-15 -5.37612450e+00]\n",
      " [-2.05000894e-16  7.77156117e-16 -6.53218444e+00]\n",
      " [-2.43873800e-17  0.00000000e+00 -5.68824437e+00]\n",
      " [-1.76840773e-16  1.38777878e-16 -2.84430431e+00]\n",
      " [ 3.77274082e-18 -2.77555756e-17  1.99963575e+00]\n",
      " [-9.31695012e-17  0.00000000e+00  8.84357581e+00]\n",
      " [ 3.19328617e-17 -4.44089210e-16  1.76875159e+01]\n",
      " [-9.49822916e-18 -2.22044605e-16  2.85314559e+01]]\n"
     ]
    }
   ],
   "source": [
    "xH = X1[1:,1]\n",
    "yH = np.zeros(np.size(xH))\n",
    "yH[0] = np.linalg.norm(xH)\n",
    "\n",
    "w = yH - xH\n",
    "w = w / np.linalg.norm(w)\n",
    "Hw = np.eye(n - 1) - 2 * np.dot(w.reshape(n - 1,1),w.reshape(1,n - 1))\n",
    "H2 = np.eye(n)\n",
    "H2[1:,1:] = Hw\n",
    "X2 = np.dot(H2, X1)\n",
    "print(X2)"
   ]
  },
  {
   "cell_type": "markdown",
   "id": "6eb8c871-3a82-412c-80f5-7bfaee99abf3",
   "metadata": {},
   "source": [
    "同理消去第三列："
   ]
  },
  {
   "cell_type": "code",
   "execution_count": 8,
   "id": "61053297-aeac-4148-8dd6-06ff775a4bde",
   "metadata": {},
   "outputs": [
    {
     "name": "stdout",
     "output_type": "stream",
     "text": [
      "[[ 3.46410162e+00  2.25166605e+01  1.87638837e+02]\n",
      " [-2.07649565e-16  1.19582607e+01  1.55457390e+02]\n",
      " [ 2.70064097e-17 -7.18346239e-16  3.65330900e+01]\n",
      " [-1.86712673e-17  7.82020774e-16  7.77156117e-16]\n",
      " [ 1.51202207e-16  1.07519550e-15  1.77635684e-15]\n",
      " [-2.27229852e-16  4.64804246e-16  1.55431223e-15]\n",
      " [-4.37444181e-17 -2.71996878e-16  8.88178420e-16]\n",
      " [-1.86519912e-16  2.77073040e-18  8.88178420e-16]\n",
      " [ 1.05774811e-17  6.78617441e-17 -4.44089210e-16]\n",
      " [-6.30749021e-17  4.22876524e-16 -3.10862447e-15]\n",
      " [ 9.21232994e-17  4.01681256e-16 -3.55271368e-15]\n",
      " [ 8.75940271e-17  1.14225454e-15 -9.76996262e-15]]\n"
     ]
    }
   ],
   "source": [
    "xH = X2[2:,2]\n",
    "yH = np.zeros(np.size(xH))\n",
    "yH[0] = np.linalg.norm(xH)\n",
    "\n",
    "w = yH - xH\n",
    "w = w / np.linalg.norm(w)\n",
    "Hw = np.eye(n - 2) - 2 * np.dot(w.reshape(n - 2,1),w.reshape(1,n - 2))\n",
    "H3 = np.eye(n)\n",
    "H3[2:,2:] = Hw\n",
    "X3 = np.dot(H3, X2)\n",
    "print(X3)"
   ]
  },
  {
   "cell_type": "markdown",
   "id": "ec31b47b-7ab3-49b2-9045-5349dd7fb276",
   "metadata": {},
   "source": [
    "注意到:\n",
    "$$\n",
    "H3 * H2 * H1 * X = R.\n",
    "$$\n",
    "以及\n",
    "$$\n",
    "H3 * H2 * H1 \n",
    "$$\n",
    "是正交阵，因此令\n",
    "$$\n",
    "Q = (H3 * H2 * H1)^T,\n",
    "$$\n",
    "则有 \n",
    "$$\n",
    "X = QR.\n",
    "$$\n",
    "即完成了 QR 分解。"
   ]
  },
  {
   "cell_type": "code",
   "execution_count": 9,
   "id": "9512d8a1-9198-49b9-a0b7-89ae4bf12a71",
   "metadata": {},
   "outputs": [],
   "source": [
    "QT = np.dot(H3, np.dot(H2, H1))\n",
    "Q = QT.T"
   ]
  },
  {
   "cell_type": "markdown",
   "id": "a7e620e8-9058-4d9f-9a93-602e5ea3d03d",
   "metadata": {},
   "source": [
    "检查 $Q$ 的正交性和 QR 分解："
   ]
  },
  {
   "cell_type": "code",
   "execution_count": 10,
   "id": "8ee67a6d-3d4b-4ad5-b20a-e9ff2b8d1ecc",
   "metadata": {},
   "outputs": [
    {
     "data": {
      "text/plain": [
       "1.847339544250486e-15"
      ]
     },
     "execution_count": 10,
     "metadata": {},
     "output_type": "execute_result"
    }
   ],
   "source": [
    "np.linalg.norm(np.dot(Q,Q.T) - np.eye(n))"
   ]
  },
  {
   "cell_type": "code",
   "execution_count": 11,
   "id": "656f74a0-4637-404d-9403-7a6c13318b45",
   "metadata": {},
   "outputs": [
    {
     "data": {
      "text/plain": [
       "1.4555709786825325e-13"
      ]
     },
     "execution_count": 11,
     "metadata": {},
     "output_type": "execute_result"
    }
   ],
   "source": [
    "R = X3\n",
    "np.linalg.norm(np.dot(Q, R) - X)"
   ]
  },
  {
   "cell_type": "code",
   "execution_count": 12,
   "id": "f290cf20-aa88-4f60-8dd6-0828100446b3",
   "metadata": {},
   "outputs": [
    {
     "data": {
      "text/plain": [
       "array([[-2.22044605e-16,  4.44089210e-15,  5.68434189e-14],\n",
       "       [ 0.00000000e+00,  7.99360578e-15,  7.81597009e-14],\n",
       "       [ 0.00000000e+00,  1.77635684e-15,  4.97379915e-14],\n",
       "       [ 0.00000000e+00,  1.33226763e-15,  2.13162821e-14],\n",
       "       [ 0.00000000e+00,  0.00000000e+00,  2.48689958e-14],\n",
       "       [ 2.22044605e-16,  0.00000000e+00,  7.10542736e-15],\n",
       "       [ 0.00000000e+00, -8.88178420e-16, -7.10542736e-15],\n",
       "       [ 2.22044605e-16,  0.00000000e+00,  0.00000000e+00],\n",
       "       [ 1.11022302e-16, -1.77635684e-15, -2.84217094e-14],\n",
       "       [ 2.22044605e-16, -1.77635684e-15, -2.84217094e-14],\n",
       "       [ 1.11022302e-16, -3.55271368e-15, -5.68434189e-14],\n",
       "       [ 1.11022302e-16, -3.55271368e-15, -5.68434189e-14]])"
      ]
     },
     "execution_count": 12,
     "metadata": {},
     "output_type": "execute_result"
    }
   ],
   "source": [
    "X - np.dot(Q, R) "
   ]
  },
  {
   "cell_type": "markdown",
   "id": "094ef1aa-180e-4f12-9438-c68e69b1cde8",
   "metadata": {},
   "source": [
    "从这里我们看到，改进多项式的表示基也是有意义的。\n",
    "\n",
    "继续我们的计算，注意我们实际上需要的是 $Q^T$, 上面缓存了。比如定理 5.60 中\n",
    "$$ \n",
    "  \\|Ax - b\\|_2^2 = \\|Q^T Ax - Q^T b\\|_2^2 = \\|R_1 x - c\\|_2^2 + \\|r\\|_2^2, \n",
    "$$\n",
    "我们已经有 $R_1$, 而 \n",
    "$$\n",
    "c = Q^T b.\n",
    "$$\n",
    "我们之前的记号和这里不一致，$A \\to X$, $x -> a$, $b -> y$, 加上之前我们已经用掉了 $c$, 于是我们干脆用 $b$ 来记录课本上的 $c$:"
   ]
  },
  {
   "cell_type": "code",
   "execution_count": 13,
   "id": "574400dc-8022-4059-8bb2-f247c952a7c7",
   "metadata": {},
   "outputs": [],
   "source": [
    "b = np.dot(QT, y) "
   ]
  },
  {
   "cell_type": "markdown",
   "id": "eb15df62-8064-4ac1-aa0a-96ec10a1d3e8",
   "metadata": {},
   "source": [
    "而定理 5.60 的实际意义就是：\n",
    "$$\n",
    "\\min \\|Ax - b\\| = \\min \\|R_1 x - c\\|.\n",
    "$$\n",
    "也就是\n",
    "$$\n",
    "R_1 x = c\n",
    "$$\n",
    "的解。"
   ]
  },
  {
   "cell_type": "code",
   "execution_count": 14,
   "id": "a6f73eef-baf2-487b-8c55-461f5abb8130",
   "metadata": {},
   "outputs": [
    {
     "name": "stdout",
     "output_type": "stream",
     "text": [
      "[ 386.         -113.42657343    9.04195804]\n"
     ]
    }
   ],
   "source": [
    "aH = np.linalg.solve(R[0:3,:], b[0:3])\n",
    "print(aH)"
   ]
  },
  {
   "cell_type": "markdown",
   "id": "5c7342cd-2b6f-477f-853d-4dbc7db0293c",
   "metadata": {},
   "source": [
    "这个解和之前线性最小二乘的解是一致的。顺带还送了一个最小二乘解和原始数据之间的二范数误差："
   ]
  },
  {
   "cell_type": "code",
   "execution_count": 15,
   "id": "e31109ff-e5b5-4fd4-9d12-81a517bc51d2",
   "metadata": {},
   "outputs": [
    {
     "name": "stdout",
     "output_type": "stream",
     "text": [
      "70.03305912659671\n"
     ]
    }
   ],
   "source": [
    "r = np.linalg.norm(b[3:12])\n",
    "print(r)"
   ]
  },
  {
   "cell_type": "markdown",
   "id": "56b9e84e-a293-42ed-8cc9-a950c6750a7e",
   "metadata": {},
   "source": [
    "和之前的经典误差 (1) 比较："
   ]
  },
  {
   "cell_type": "code",
   "execution_count": 16,
   "id": "c4fba3d6-f9c7-4299-90ce-bb0b7cc50d91",
   "metadata": {},
   "outputs": [
    {
     "data": {
      "text/plain": [
       "70.03305912659651"
      ]
     },
     "execution_count": 16,
     "metadata": {},
     "output_type": "execute_result"
    }
   ],
   "source": [
    "np.linalg.norm(y - (a[0] + a[1]*x + a[2]*x**2))\n",
    "#xh = np.linspace(1,12,100)\n",
    "#yh = a[0] + a[1]*xh + a[2]*xh**2\n",
    "#plt.plot(xh,yh, label=\"Fitting Curve\")\n",
    "#plt.legend(loc='upper left')"
   ]
  },
  {
   "cell_type": "markdown",
   "id": "b63237ad-dba1-4e83-9c45-8c99b4b0db97",
   "metadata": {},
   "source": [
    "在解决离散最小二乘问题时，QR 分解算法的条件数是 $\\text{cond} R_1$. 相比之下，基于正规方程的算法的条件数通常是 $(\\text{cond} R_1)^2$. 然而这些都不如从一开始就选择一组合适的表示基。大家可以尝试一下用勒让德多项式来表达。"
   ]
  },
  {
   "cell_type": "code",
   "execution_count": null,
   "id": "47051186-5ea1-499b-a3ae-394edc5e9399",
   "metadata": {},
   "outputs": [],
   "source": []
  }
 ],
 "metadata": {
  "kernelspec": {
   "display_name": "Python 3 (ipykernel)",
   "language": "python",
   "name": "python3"
  },
  "language_info": {
   "codemirror_mode": {
    "name": "ipython",
    "version": 3
   },
   "file_extension": ".py",
   "mimetype": "text/x-python",
   "name": "python",
   "nbconvert_exporter": "python",
   "pygments_lexer": "ipython3",
   "version": "3.12.4"
  }
 },
 "nbformat": 4,
 "nbformat_minor": 5
}
