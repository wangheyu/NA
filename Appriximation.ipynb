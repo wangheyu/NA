{
 "cells": [
  {
   "cell_type": "markdown",
   "id": "ac4fc891",
   "metadata": {},
   "source": [
    "# 最佳平方逼近\n",
    "\n",
    "我们上一次课重点介绍了最佳平方逼近. 关键性知识点有两个:\n",
    "1. 用 Gram-Schmidt 过程产生标准正交基；\n",
    "2. 用标准正交基产生目标函数在目标空间(有限维)的 Fourier 展开, 也即正交投影.\n",
    "可以证明, 上述产生的目标投影是目标函数的最佳平方逼近(2-范数最佳逼近)."
   ]
  },
  {
   "cell_type": "markdown",
   "id": "6bd15fe7",
   "metadata": {},
   "source": [
    "定义 5.13 的 Gram-Schmidt 过程是一个算法过程. 比如我们可以把 \n",
    "$$\n",
    "1, x, x^2, \\cdots\n",
    "$$\n",
    "在 $[-1, 1]$ 上关于内积\n",
    "$$\n",
    "<f, g> = \\int_{-1}^1 fg dx\n",
    "$$\n",
    "代入 Gram-Schmidt 过程, 这里 $\\rho(x) \\equiv 1$. "
   ]
  },
  {
   "cell_type": "code",
   "execution_count": null,
   "id": "7a244043",
   "metadata": {},
   "outputs": [],
   "source": [
    "import sympy as sym         # 调入符号计算库\n",
    "from sympy import symbols   # 符号变量声明\n",
    "from sympy.plotting import plot\n",
    "x = symbols('x')            # x 是符号变量"
   ]
  },
  {
   "cell_type": "code",
   "execution_count": null,
   "id": "61a72ee1",
   "metadata": {},
   "outputs": [],
   "source": [
    "N = 10   # 实际展开到了 10 次.\n",
    "u = [x**i for i in range(N)]\n",
    "v = list.copy(u)\n",
    "u[0] = v[0] / sym.sqrt(sym.integrate(v[0] * v[0], (x, -1, 1)))\n",
    "for i in range(1, N):\n",
    "    v[i] = u[i]\n",
    "    for k in range(i):\n",
    "        v[i] = v[i] - sym.integrate(u[i]*u[k], (x, -1, 1)) * u[k]\n",
    "    u[i] = v[i] / sym.sqrt(sym.integrate(v[i]*v[i], (x, -1, 1)))"
   ]
  },
  {
   "cell_type": "markdown",
   "id": "6658a7d0",
   "metadata": {},
   "source": [
    "上述代码严格重现了课本例 5.19. 我们可以用产生的 Legendre 多项式 `u` 来进一步验证课本的例 5.28:"
   ]
  },
  {
   "cell_type": "code",
   "execution_count": null,
   "id": "6e5f714d",
   "metadata": {},
   "outputs": [],
   "source": [
    "f = sym.exp(x)    # 目标函数\n",
    "p1 = plot(f, (x, -1, 1))"
   ]
  },
  {
   "cell_type": "code",
   "execution_count": null,
   "id": "e9ffeeb5",
   "metadata": {},
   "outputs": [],
   "source": [
    "m = 3   # 例 5.19 展开到了 3 次.\n",
    "b = [i for i in range(m)]\n",
    "hat_phi = 0 \n",
    "for i in range(m):\n",
    "    hat_phi = hat_phi + sym.integrate(f * u[i], (x, -1, 1)) * u[i]"
   ]
  },
  {
   "cell_type": "code",
   "execution_count": null,
   "id": "68fb4334",
   "metadata": {},
   "outputs": [],
   "source": [
    "p2 = plot(hat_phi, (x, -1, 1), line_color='red')\n",
    "p1.append(p2[0])"
   ]
  },
  {
   "cell_type": "code",
   "execution_count": null,
   "id": "df27c5b1",
   "metadata": {},
   "outputs": [],
   "source": [
    "p1.show()"
   ]
  },
  {
   "cell_type": "code",
   "execution_count": null,
   "id": "a003dffd",
   "metadata": {},
   "outputs": [],
   "source": [
    "m = 6\n",
    "b = [i for i in range(m)]\n",
    "hat_phi = 0 \n",
    "for i in range(m):\n",
    "    hat_phi = hat_phi + sym.integrate(f * u[i], (x, -1, 1)) * u[i]"
   ]
  },
  {
   "cell_type": "code",
   "execution_count": null,
   "id": "a0e12cdd",
   "metadata": {},
   "outputs": [],
   "source": [
    "p1 = plot(f, (x, -1, 1), line_color='blue', show=False)\n",
    "p2 = plot(hat_phi, (x, -1, 1), line_color='red', show=False)\n",
    "p1.append(p2[0])\n",
    "p1.show()"
   ]
  },
  {
   "cell_type": "code",
   "execution_count": null,
   "id": "f4a7d5cd",
   "metadata": {},
   "outputs": [],
   "source": [
    "# 直接画误差\n",
    "plot(f - hat_phi, (x, -1, 1), line_color='blue')"
   ]
  },
  {
   "cell_type": "code",
   "execution_count": null,
   "id": "fcacd749",
   "metadata": {},
   "outputs": [],
   "source": [
    "# 恢复 3 次以便和后面的例子做比较\n",
    "m = 3\n",
    "b = [i for i in range(m)]\n",
    "hat_phi = 0 \n",
    "for i in range(m):\n",
    "    hat_phi = hat_phi + sym.integrate(f * u[i], (x, -1, 1)) * u[i]"
   ]
  },
  {
   "cell_type": "markdown",
   "id": "f750e69f",
   "metadata": {},
   "source": [
    "## 正规方程组 (normal equations)\n",
    "\n",
    "在上节课的基础上, 我们来考虑如何对一个一般的线性空间 \n",
    "$$\n",
    "V = \\mbox{span}\\{\\phi_1, \\phi_2, \\cdots, \\phi_n\\}\n",
    "$$\n",
    "做最佳平方逼近. 当然我们可以直接先用 Gram-Schmidt 过程对其正交化, 但这样做对一个具体问题而言, 是代价极大的."
   ]
  },
  {
   "cell_type": "markdown",
   "id": "79b39891",
   "metadata": {},
   "source": [
    "假设目标函数 $f$ 在 $V$ 中的最佳逼近元为\n",
    "$$\n",
    "\\hat{\\phi} = \\sum_{i = 1}^n f_i \\phi_i,\n",
    "$$\n",
    "这里 $f_i$ 是待定系数, $i = 1, 2, \\cdots, n$."
   ]
  },
  {
   "cell_type": "markdown",
   "id": "c08f4a8b",
   "metadata": {},
   "source": [
    "那么对一个独立的基函数 $\\phi_j$, $j = 1, 2, \\cdots, n$, 有\n",
    "$$\n",
    "<\\hat{\\phi}, \\phi_j> = \\left<\\sum_{i = 1}^n f_i \\phi_i, \\phi_j\\right>\n",
    "= \\sum_{i = 1}^n <\\phi_i, \\phi_j> f_i.\n",
    "$$"
   ]
  },
  {
   "cell_type": "markdown",
   "id": "eff66adf",
   "metadata": {},
   "source": [
    "而 $f$ 作为空间外的一个元素, 它在空间内的各基函数的投影, 直观上看, 最佳也就是它自己在各基函数上的投影. 也就是说, 直观上也可以认为 (严格的结论就是定理 5.34)\n",
    "$$\n",
    "<\\hat{\\phi}, \\phi_j> = <f, \\phi_j>, i = 1, 2, \\cdots, n.\n",
    "$$\n",
    "由此, 我们得到线性方程组"
   ]
  },
  {
   "cell_type": "markdown",
   "id": "7c6dab0e",
   "metadata": {},
   "source": [
    "$$\n",
    "\\sum_{i = 1}^n <\\phi_i, \\phi_j> f_i = <f, \\phi_j>, j = 1, 2, \\cdots, n.\n",
    "$$\n",
    "写成矩阵形式就是\n",
    "$$\n",
    "G(\\phi_1, \\phi_2, \\cdots, \\phi_n) \\vec{f} = \\vec{c},\n",
    "$$\n",
    "其中 \n",
    "$$\n",
    "\\vec{f} = (f_1, f_2, \\cdots, f_n)^T,\n",
    "$$\n",
    "以及\n",
    "$$\n",
    "\\vec{c} = (<f, \\phi_1>, <f, \\phi_2>, \\cdots, <f, \\phi_n>)^T\n",
    "$$\n",
    "所以该方程组又成为正规方程组, 它的系数矩阵就是正规矩阵."
   ]
  },
  {
   "cell_type": "markdown",
   "id": "b1a9c105",
   "metadata": {},
   "source": [
    "例 5.35 就是用正规方程组, 直接在 \n",
    "$$\n",
    "\\mbox{span}\\{1, x, x^2\\}\n",
    "$$\n",
    "内寻找 $f = e^x$ 的最佳逼近元, 我们演示如下:"
   ]
  },
  {
   "cell_type": "code",
   "execution_count": null,
   "id": "7beb2051",
   "metadata": {},
   "outputs": [],
   "source": [
    "from sympy.matrices import Matrix, eye, zeros, ones, diag, GramSchmidt\n",
    "m = 3\n",
    "f = sym.exp(x)\n",
    "G = zeros(m)\n",
    "c = zeros(m, 1)\n",
    "u = [x**i for i in range(m)]"
   ]
  },
  {
   "cell_type": "code",
   "execution_count": null,
   "id": "8c9492c1",
   "metadata": {},
   "outputs": [],
   "source": [
    "for i in range(m):\n",
    "    for j in range(m):\n",
    "        G[i, j] = sym.integrate(u[i] * u[j], (x, -1, 1))\n",
    "    c[i] = sym.integrate(f * u[i], (x, -1, 1))\n",
    "fi = G.inv() * c"
   ]
  },
  {
   "cell_type": "code",
   "execution_count": null,
   "id": "3dbd0785",
   "metadata": {},
   "outputs": [],
   "source": [
    "phi = 0\n",
    "for i in range(m):\n",
    "    phi = phi + fi[i] * u[i]"
   ]
  },
  {
   "cell_type": "markdown",
   "id": "736db21f",
   "metadata": {},
   "source": [
    "我们可以和书上结果对比一下:"
   ]
  },
  {
   "cell_type": "code",
   "execution_count": null,
   "id": "9c50ba03",
   "metadata": {},
   "outputs": [],
   "source": [
    "G"
   ]
  },
  {
   "cell_type": "code",
   "execution_count": null,
   "id": "59c2f854",
   "metadata": {},
   "outputs": [],
   "source": [
    "c"
   ]
  },
  {
   "cell_type": "code",
   "execution_count": null,
   "id": "3bdcab29",
   "metadata": {},
   "outputs": [],
   "source": [
    "fi"
   ]
  },
  {
   "cell_type": "markdown",
   "id": "c51801cd",
   "metadata": {},
   "source": [
    "画图对比:"
   ]
  },
  {
   "cell_type": "code",
   "execution_count": null,
   "id": "7602ad7d",
   "metadata": {},
   "outputs": [],
   "source": [
    "p1 = plot(f, (x, -1, 1), line_color='blue', show=False)\n",
    "p2 = plot(phi, (x, -1, 1), line_color='red', show=False)\n",
    "p1.append(p2[0])\n",
    "p1.show()"
   ]
  },
  {
   "cell_type": "markdown",
   "id": "5cf1d69c",
   "metadata": {},
   "source": [
    "我们可以比较一下正交展开和正规方程组结果的区别:"
   ]
  },
  {
   "cell_type": "code",
   "execution_count": null,
   "id": "7b08d614",
   "metadata": {},
   "outputs": [],
   "source": [
    "hat_phi - phi"
   ]
  },
  {
   "cell_type": "markdown",
   "id": "c031b716",
   "metadata": {},
   "source": [
    "有区别就离谱, 但这是未化简造成的:"
   ]
  },
  {
   "cell_type": "code",
   "execution_count": null,
   "id": "de6b6d56",
   "metadata": {},
   "outputs": [],
   "source": [
    "sym.simplify(phi - hat_phi)"
   ]
  },
  {
   "cell_type": "markdown",
   "id": "d826763f",
   "metadata": {},
   "source": [
    "不难看到, 当基函数两两正交时, 正规方程组自然变为正交展开. 而且正规方程组本身的计算量是很大的, 同时还要考虑不好的基函数带来的条件数问题. 所以, 只建议在小规模, 临时的前提下使用."
   ]
  },
  {
   "cell_type": "markdown",
   "id": "db19ac1d",
   "metadata": {},
   "source": [
    "## 离散最小二乘 (Discrete least squares, DLS)\n",
    "\n",
    "离散最小二乘的直接动力来自数据拟合. 如果我们有一批在控制变量法下产生的数据, 现在我们需要对数据关于变量的规律做归纳或者验证, 比如例5.36那样, 验证一次或二次的规律. 那么这里就有一个必须考虑的问题, 也就是实际测量的数据总是有误差的. 于是我们就需要在接受总是有误差的这个前提基础上, 尽可能好地回归. 比如我们已经知道对匀加速直线运动, 位移是关于时间 $t$ 的二次函数. 但当我们真的把实测数据打印在纸上的时候, 这些数据不可能是恰好分布在一条二次曲线上的. 哪怕多次测量再取均值, 也无法消除这种测量误差带来的波动. 因此我们实际回归的, 是一条尽可能好的曲线.   "
   ]
  },
  {
   "cell_type": "markdown",
   "id": "23a68ab2",
   "metadata": {},
   "source": [
    "### 高斯函数和狄拉克函数 (Gaussian and Dirac delta functions)\n",
    "\n",
    "**定义 5.37** 高斯函数定义如下:\n",
    "$$\n",
    "f(x) = a \\exp \\left(-\\frac{(x - b)^2}{2c^2}\\right),\n",
    "$$\n",
    "这里 $a, c \\in \\mathbb{R}^+$, $b \\in \\mathbb{R}$."
   ]
  },
  {
   "cell_type": "code",
   "execution_count": null,
   "id": "9dbc6292",
   "metadata": {},
   "outputs": [],
   "source": [
    "def draw_gaussian(a, b, c):\n",
    "    f = a * sym.exp(-(x - b)**2 / (2 * c**2))\n",
    "    return plot(f)"
   ]
  },
  {
   "cell_type": "code",
   "execution_count": null,
   "id": "baa43e7e",
   "metadata": {},
   "outputs": [],
   "source": [
    "p1 = draw_gaussian(1, 0, 1)"
   ]
  },
  {
   "cell_type": "code",
   "execution_count": null,
   "id": "2065b9e5",
   "metadata": {},
   "outputs": [],
   "source": [
    "p2 = draw_gaussian(2, 0, 1)"
   ]
  },
  {
   "cell_type": "code",
   "execution_count": null,
   "id": "ddbb613b",
   "metadata": {},
   "outputs": [],
   "source": [
    "p1.append(p2[0])\n",
    "p1.show()"
   ]
  },
  {
   "cell_type": "markdown",
   "id": "862f72ae",
   "metadata": {},
   "source": [
    "可见 $a$ 是最大值. $b$ 是对称轴. 而 $c$ 是标准差(standard deviation), 或者 RMS (root mean square) 宽度. "
   ]
  },
  {
   "cell_type": "code",
   "execution_count": null,
   "id": "790a2032",
   "metadata": {},
   "outputs": [],
   "source": [
    "p3 = draw_gaussian(1, 0, 2)"
   ]
  },
  {
   "cell_type": "code",
   "execution_count": null,
   "id": "72a1199d",
   "metadata": {},
   "outputs": [],
   "source": [
    "p1.append(p3[0])\n",
    "p1.show()"
   ]
  },
  {
   "cell_type": "markdown",
   "id": "6fd397ec",
   "metadata": {},
   "source": [
    "就是曲线有多胖. 当 $a = \\frac{1}{\\sqrt{2 \\pi}}$, $b = 0$, $c = 1$ 是就是标准正态分布的概率密度函数: "
   ]
  },
  {
   "cell_type": "code",
   "execution_count": null,
   "id": "dfe0f626",
   "metadata": {},
   "outputs": [],
   "source": [
    "draw_gaussian(1/sym.sqrt(2*sym.pi), 0, 1)"
   ]
  },
  {
   "cell_type": "markdown",
   "id": "579bc2a9",
   "metadata": {},
   "source": [
    "**引理 5.38** 高斯函数的积分满足:\n",
    "$$\n",
    "\\int_{-\\infty}^{\\infty}a e^{-\\frac{(x - b)^2}{2c^2}} dx = ac\\sqrt{2\\pi}.\n",
    "$$\n",
    "这个积分的计算无法只用初等变换, 而是需要极坐标变换."
   ]
  },
  {
   "cell_type": "code",
   "execution_count": null,
   "id": "fd68ab61",
   "metadata": {},
   "outputs": [],
   "source": [
    "sym.integrate(sym.exp(-(x)**2 / (2)))"
   ]
  },
  {
   "cell_type": "markdown",
   "id": "667103b9",
   "metadata": {},
   "source": [
    "**定义 5.39** 正态分布或者高斯分布, 就是把高斯函数归一化(以满足分布函数要求):\n",
    "$$\n",
    "f_{\\mu, \\sigma} = \\frac{1}{\\sigma\\sqrt{2 \\pi}} \\exp\\left(-\\frac{(x - \\mu)^2}{2 \\sigma^2}\\right),\n",
    "$$\n",
    "这里 $\\mu$ 是期望, $\\sigma$ 是标准差 ($\\sigma^2$ 是方差)."
   ]
  },
  {
   "cell_type": "markdown",
   "id": "428be28a",
   "metadata": {},
   "source": [
    "**定义 5.40** Dirac-delta 函数 \n",
    "$$\n",
    "\\delta(x - \\bar{x}) := \\lim_{\\epsilon \\to 0} \\phi_{\\epsilon}(x - \\bar{x}).\n",
    "$$\n",
    "这里\n",
    "$$\n",
    "\\phi_\\epsilon(x - \\bar{x}) := f_{\\bar{x}, \\epsilon}\n",
    "$$\n",
    "是期望为 $\\bar{x}$, 标准差为 $\\epsilon$ 的正态分布. "
   ]
  },
  {
   "cell_type": "markdown",
   "id": "2c0c8040",
   "metadata": {},
   "source": [
    "**引理 5.41** Dirac-delta 函数满足:\n",
    "$$\n",
    "\\delta(x - \\bar{x}) = \\left\\{\n",
    "\\begin{array}{ll}\n",
    "+\\infty, & x = \\bar{x}, \\\\\n",
    "0, & x \\neq \\bar{x}.\n",
    "\\end{array}\n",
    "\\right.\n",
    "$$\n",
    "以及\n",
    "$$\n",
    "\\int_{-\\infty}^{\\infty} \\delta(x - \\bar{x}) dx = 1.\n",
    "$$\n",
    "直接对定义取极限就可以了."
   ]
  },
  {
   "cell_type": "markdown",
   "id": "1763a573",
   "metadata": {},
   "source": [
    "Dirac-delta 函数物理上刻画了一个点(零测度)源的提供有限输出, 比如一个滴水滴到湖面, 一个脉冲, 等等. \n",
    "\n",
    "**引理 5.42** 如果 $f : \\mathbb{R} \\to \\mathbb{R}$ 是连续映射, 则\n",
    "$$\n",
    "\\int_{-\\infty}^{\\infty}\\delta(x - \\bar{x}) f(x) dx = f(\\bar{x}).\n",
    "$$\n",
    "注意这里证明过程中的 (\\*), 实际采用了 Dirac-delta 函数的另一种定义:\n",
    "$$\n",
    "\\phi_\\epsilon(x) = \\left\\{\n",
    "\\begin{array}{ll}\n",
    "\\frac{1}{\\epsilon^2}(x + \\epsilon), & x \\in [-\\epsilon, 0] \\\\\n",
    "-\\frac{1}{\\epsilon^2}(x - \\epsilon), & x \\in [0, \\epsilon] \\\\\n",
    "0, & \\mbox{其他}.\n",
    "\\end{array}\n",
    "\\right.\n",
    "$$"
   ]
  },
  {
   "cell_type": "markdown",
   "id": "b7e3b4a7",
   "metadata": {},
   "source": [
    "**定义 5.43** Heaviside 函数或者阶梯函数的定义如下:\n",
    "$$\n",
    "H(x) = \\left\\{\n",
    "\\begin{array}{ll}\n",
    "0, & \\mbox{若} x < 0,\\\\\n",
    "1, & \\mbox{若} x \\geq 0.\n",
    "\\end{array}\n",
    "\\right.\n",
    "$$\n",
    "它也是我们学过的 $0$ 次截断指数函数\n",
    "$$\n",
    "H(x) = x_+^0.\n",
    "$$"
   ]
  },
  {
   "cell_type": "markdown",
   "id": "9799a633",
   "metadata": {},
   "source": [
    "**引理 5.44** Dirac-delta 函数和 Heaviside 函数有如下关系:\n",
    "$$\n",
    "\\int_{-\\infty}^x \\delta(t) dt = H(x).\n",
    "$$\n",
    "积分有没有越过 $0$ 点能量为 $1$ 的脉冲."
   ]
  },
  {
   "cell_type": "markdown",
   "id": "20863389",
   "metadata": {},
   "source": [
    "### 形式重构 (Reusing the formalism)\n",
    "\n",
    "这里作者又浪了. 我真不知道怎么翻译比较好. 因为 formalism 的直接含义是形式主义. 大家看着办吧. \n",
    "\n",
    "**定义 5.45** 定义函数 $\\lambda : \\mathbb{R} \\to \\mathbb{R}$, \n",
    "$$\n",
    "\\lambda(t) = \\left\\{\n",
    "\\begin{array}{ll}\n",
    "0, & t \\in [-\\infty, a), \\\\\n",
    "\\int_a^t \\rho(\\tau) d\\tau, &t \\in [a, b],\\\\\n",
    "\\int_a^b \\rho(\\tau) d\\tau, &t \\in (b, +\\infty].\\\\\n",
    "\\end{array}\n",
    "\\right.\n",
    "$$"
   ]
  },
  {
   "cell_type": "markdown",
   "id": "425edb09",
   "metadata": {},
   "source": [
    "这个定义下, $\\lambda$ 在 $[a, b]$ 区间有个变化的值, 在 $t < a$ 和 $t > b$ 都是不变的. 这就意味着一个微元 $d\\lambda$ (课本上用的是连续的测度 $d\\lambda$)\n",
    "$$\n",
    "d\\lambda = \\left\\{\n",
    "\\begin{array}{ll}\n",
    "\\rho(t)dt, & t \\in [a, b]\\\\\n",
    "0, & \\mbox{其他}.\n",
    "\\end{array}\n",
    "\\right.\n",
    "$$\n",
    "或者说微元 $d\\lambda$ 的支撑是 $[a, b]$."
   ]
  },
  {
   "cell_type": "markdown",
   "id": "3ec5d2dc",
   "metadata": {},
   "source": [
    "**定义 5.46** 我们将连续测度概念推广一下, 将 $d\\lambda$ 的支撑设成离散点集 $\\{t_1, t_2, \\cdots, t_N\\}$, 且在上面对应取值 $\\rho(t_i) = \\rho_i$, 那么这样的连续测度称为 Dirac 测度. 也就是只有在越过这些离散点时, 会发生跳跃的变化. 所以大家现在体会一下啥叫 \"Reusing the formalism\", 包括 Dirac-delta 函数这种, 往往都是联系连续和离散的一种形式工具. 我们这里可能更容易联想的是, 用这种手段, 我们可以在形式上统一连续分布函数和离散分布函数."
   ]
  },
  {
   "cell_type": "markdown",
   "id": "a81ea2c2",
   "metadata": {},
   "source": [
    "**引理 5.47** 对函数 $u : \\mathbb{R} \\to \\mathbb{R}$, 令\n",
    "$$\n",
    "\\lambda(t) = \\sum_{i = 1}^N \\rho_i H(t - t_i),\n",
    "$$\n",
    "则有\n",
    "$$\n",
    "\\int_{-\\infty}^{\\infty} u(t) dt = \\sum_{i = 1}^N \\rho_i u(t_i).\n",
    "$$\n",
    "连续积分和离散求和直接相等. 连续和离散直接对应. 用这种形式, 我们也可以把离散分布和连续分布的累积分布函数的形式统一. 而这里我们真正的动机是, 测量得到的数值都是离散的, 因为我们只能做有限次瞬时的测量. 所以哪怕我们回归的规律是连续的函数比如 $u(t)$ 或 $v(t)$, 但我们得到的测量数据永远只有 $u(t_i)$ 和 $v(t_i)$, $i = 1, 2, \\cdots, N$. 但是在形式上, 我们可以在形式上接受:\n",
    "$$\n",
    "<u(t), v(t)> = \\sum_{i = 1}^N \\rho(t_i) u(t_i) v(t_i).\n",
    "$$\n",
    "由此把离散最小二乘统一到最佳平方逼近的框架下."
   ]
  },
  {
   "cell_type": "markdown",
   "id": "341293b9",
   "metadata": {},
   "source": [
    "### 基于正规方程组的离散最小二乘\n",
    "\n",
    "**例 5.48** 看过程. 导入数据:"
   ]
  },
  {
   "cell_type": "code",
   "execution_count": null,
   "id": "b5d1c55f",
   "metadata": {},
   "outputs": [],
   "source": [
    "import numpy as np   # 现在是数值计算了哦.\n",
    "from matplotlib import pyplot as plt\n",
    "x = np.arange(12) + 1\n",
    "y = np.array([256, 201, 159, 61, 77, 40, 17, 25, 103, 156, 222, 345])"
   ]
  },
  {
   "cell_type": "markdown",
   "id": "cccd4e40",
   "metadata": {},
   "source": [
    "先画一下, 什么鬼..."
   ]
  },
  {
   "cell_type": "code",
   "execution_count": null,
   "id": "851fcae0",
   "metadata": {},
   "outputs": [],
   "source": [
    "plt.plot(x, y, 'o')"
   ]
  },
  {
   "cell_type": "markdown",
   "id": "dac05a9e",
   "metadata": {},
   "source": [
    "我们先验地知道, 这是一个二次函数. 所以我们希望将 $x$ 和 $y$ 的规律回归成\n",
    "$$\n",
    "y = a_0 + a_1 x + a_2 x^2.\n",
    "$$\n",
    "基于这些数据, 我们能做到最好就是选取待定系数 $a_0$, $a_1$ 和 $a_2$ 满足\n",
    "$$\n",
    "(a_0, a_1, a_2) = \\mbox{argmin}_{a_0, a_1, a_2} \\sum_{i = 1}^{12} \\left(y_i - \\sum_{j = 0}^2 a_j x^j\\right)^2.\n",
    "$$\n",
    "这里我们可以用经典优化手段做, 或者, 在上一节的指导下, 直接采用正规方程组: "
   ]
  },
  {
   "cell_type": "code",
   "execution_count": null,
   "id": "55197daa",
   "metadata": {},
   "outputs": [],
   "source": [
    "x0 = x**0   \n",
    "x1 = x**1\n",
    "x2 = x**2\n",
    "xj = np.array([x0, x1, x2])\n",
    "xj"
   ]
  },
  {
   "cell_type": "code",
   "execution_count": null,
   "id": "c419c2bb",
   "metadata": {},
   "outputs": [],
   "source": [
    "G = np.dot(xj, xj.transpose())\n",
    "G    # 和课本对比"
   ]
  },
  {
   "cell_type": "code",
   "execution_count": null,
   "id": "b643bfa4",
   "metadata": {},
   "outputs": [],
   "source": [
    "c0 = np.dot(y, x0.transpose())\n",
    "c1 = np.dot(y, x1.transpose())\n",
    "c2 = np.dot(y, x2.transpose())\n",
    "c = np.array([c0, c1, c2])\n",
    "c    # 和课本对比"
   ]
  },
  {
   "cell_type": "code",
   "execution_count": null,
   "id": "07597d74",
   "metadata": {},
   "outputs": [],
   "source": [
    "# 解正规方程组 G a = c\n",
    "a = np.linalg.linalg.solve(G, c)\n",
    "a"
   ]
  },
  {
   "cell_type": "markdown",
   "id": "305b7382",
   "metadata": {},
   "source": [
    "画图对比一下:"
   ]
  },
  {
   "cell_type": "code",
   "execution_count": null,
   "id": "b9cd1559",
   "metadata": {},
   "outputs": [],
   "source": [
    "# 看得懂我在干啥么? \n",
    "xh = np.linspace(1, 12, 100)\n",
    "yh = np.dot(a,np.array([xh**0, xh**1, xh**2]))\n",
    "plt.plot(x, y, 'o', xh, yh, 'r')"
   ]
  },
  {
   "cell_type": "markdown",
   "id": "6b745f93",
   "metadata": {},
   "source": [
    "这种离散最小二乘的正规方程组, 还有一种代数的解释. 这里 $x$ 和 $y$ 是我们测量得到的数据, 有 $12$ 对, 但是我们的待定系数只有 $a_0$, $a_1$, $a_2$ 三个. 于是我们直接带入\n",
    "$$\n",
    "y = a_0 + a_1 x + a_2 x^2\n",
    "$$\n",
    "得到的 \n",
    "$$\n",
    "X a = y\n",
    "$$\n",
    "是一个行数远大于列数的超定方程组, 一般是无解的. 但对于这种情况, 我们可以采取求广义逆. 也就是方程两边同乘以 $X^T$, 得到\n",
    "$$\n",
    "X^TX a = X^Ty.\n",
    "$$\n",
    "这是一个方阵, 可以求解. 同时. 你发现你得到的线性方程组, 恰好就是正规方程组. 这里\n",
    "$$\n",
    "(X^TX)^{-1}X^T\n",
    "$$\n",
    "称为广义逆(的一种), 而\n",
    "$$\n",
    "a = (X^TX)^{-1}X^T * y.\n",
    "$$"
   ]
  },
  {
   "cell_type": "markdown",
   "id": "4c701c27",
   "metadata": {},
   "source": [
    "### 通过 QR 分解的离散最小二乘\n",
    "\n",
    "大家肯定会关心, 那个基于正交系的最佳平方逼近能用在这种离散形式下么? 自然是可以的. \n",
    "\n",
    "**定义 5.49** 矩阵 $A \\in \\mathbb{R}^{n \\times n}$ 是正交的, 如果\n",
    "$$\n",
    "A^TA = I.\n",
    "$$\n",
    "\n",
    "**定义 5.50** 矩阵 $A \\in \\mathbb{R}^{n \\times n}$ 是上三角的, 如果\n",
    "$$\n",
    "\\forall i>j, a_{ij} = 0.\n",
    "$$\n",
    "对称可定义下三角矩阵."
   ]
  },
  {
   "cell_type": "markdown",
   "id": "a4dc76bb",
   "metadata": {},
   "source": [
    "**定理 5.51** (QR 分解) 对于任何矩阵 $A \\in \\mathbb{R}^{m\\times n}$, 存在正交阵 $Q \\in \\mathbb{R}^{m\\times m}$ 和上三角阵 $R \\in \\mathbb{R}^{m \\times n}$, 满足\n",
    "$$\n",
    "A = Q R.\n",
    "$$"
   ]
  },
  {
   "cell_type": "code",
   "execution_count": null,
   "id": "31a48581",
   "metadata": {},
   "outputs": [],
   "source": [
    "X = xj.transpose()\n",
    "q0 = X[:,0]\n",
    "q0 = q0 / np.sqrt(np.dot(q0.transpose(), q0))\n",
    "q1 = X[:,1]\n",
    "q1 = q1 - np.dot(q1.transpose(), q0)*q0 \n",
    "q1 = q1 / np.sqrt(np.dot(q1.transpose(), q1))\n",
    "q2 = X[:, 2]\n",
    "q2 = q2 - np.dot(q2.transpose(), q0)*q0 - np.dot(q2.transpose(), q1)*q1\n",
    "q2 = q2 / np.sqrt(np.dot(q2.transpose(), q2))\n",
    "Q = np.array([q0, q1, q2]).transpose()\n",
    "np.dot(Q.transpose(), Q)"
   ]
  },
  {
   "cell_type": "markdown",
   "id": "17f2cc94",
   "metadata": {},
   "source": [
    "我们这里从实际计算的角度, 只是对 $X$ 的列向量做了 Gram-Schmidt 正交化, 相当于\n",
    "$$\n",
    "X = Q R, \n",
    "$$\n",
    "其中 $Q$ 满足 $Q^TQ = I$, 而不满足 $Q Q^T = I$, 仍然是一个长方阵. 但是原方程\n",
    "$$\n",
    "X a = y\n",
    "$$\n",
    "即\n",
    "$$\n",
    "Q R a = y,\n",
    "$$\n",
    "两边同乘以 $Q^T$, 得\n",
    "$$\n",
    "R a = Q^Ty.\n",
    "$$"
   ]
  },
  {
   "cell_type": "code",
   "execution_count": null,
   "id": "1c6c5fc7",
   "metadata": {},
   "outputs": [],
   "source": [
    "R = np.dot(Q.transpose(), X)\n",
    "R"
   ]
  },
  {
   "cell_type": "code",
   "execution_count": null,
   "id": "fad6e8b7",
   "metadata": {},
   "outputs": [],
   "source": [
    "qy = np.dot(Q.transpose(), y)\n",
    "qy"
   ]
  },
  {
   "cell_type": "code",
   "execution_count": null,
   "id": "77893dbb",
   "metadata": {},
   "outputs": [],
   "source": [
    "np.linalg.linalg.solve(R, qy)"
   ]
  },
  {
   "cell_type": "markdown",
   "id": "20427fca",
   "metadata": {},
   "source": [
    "咋一看, 似乎只是改了一种解法, 但注意到原本的正规方程组的系数矩阵, 几乎是一个 Vandermonde 矩阵, 条件数非常恶劣, 也就是说, 只要次数稍微高一点, 误差就会很大. 而正交化后的矩阵, 条件数会有极大改善. 这里大家在做编程作业时, 再仔细考虑一下."
   ]
  },
  {
   "cell_type": "code",
   "execution_count": null,
   "id": "02504143",
   "metadata": {},
   "outputs": [],
   "source": []
  }
 ],
 "metadata": {
  "kernelspec": {
   "display_name": "Python 3 (ipykernel)",
   "language": "python",
   "name": "python3"
  },
  "language_info": {
   "codemirror_mode": {
    "name": "ipython",
    "version": 3
   },
   "file_extension": ".py",
   "mimetype": "text/x-python",
   "name": "python",
   "nbconvert_exporter": "python",
   "pygments_lexer": "ipython3",
   "version": "3.11.5"
  }
 },
 "nbformat": 4,
 "nbformat_minor": 5
}
