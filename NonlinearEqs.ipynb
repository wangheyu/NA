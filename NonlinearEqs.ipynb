{
 "cells": [
  {
   "cell_type": "markdown",
   "id": "70665bcb",
   "metadata": {},
   "source": [
    "# 第一章 求解非线性方程组\n",
    "\n",
    "我们用 python 来做一些快速模拟和讨论. "
   ]
  },
  {
   "cell_type": "code",
   "execution_count": null,
   "id": "6e9e5025",
   "metadata": {},
   "outputs": [],
   "source": [
    "import numpy as np\n",
    "from matplotlib import pyplot as plt"
   ]
  },
  {
   "cell_type": "markdown",
   "id": "99d95cf9",
   "metadata": {},
   "source": [
    "一个非线性方程的例子: \n",
    "\\begin{equation}\n",
    "  x - a \\sin x - b = 0.\n",
    "  \\label{eq::Kepler}\n",
    "\\end{equation}\n",
    "这是研究行星运动的开普勒(Kepler)方程, 这里 $a$ 是 $0 \\sim 1$ 之间的数, 物理意义是偏心率, 当 $a = 0$ 时, 行星轨道就是一个圆, 而越接近 $1$, 则轨道越是一个扁椭圆; 而 $b$ 是平均近点角(Mean Anomaly), 是一个 $0 \\sim 2 \\pi$ 之间的数. 考虑一下如何数值求解该方程?(暴\n",
    "力一把?) 先画出来?"
   ]
  },
  {
   "cell_type": "code",
   "execution_count": null,
   "id": "9268e25f",
   "metadata": {},
   "outputs": [],
   "source": [
    "def drawKepler(a, b):\n",
    "    N = 100\n",
    "    x = np.linspace(-10, 10, N)\n",
    "    y = x - a * np.sin(x) - b\n",
    "    plt.plot(x, y)\n",
    "    plt.plot(x, np.zeros(N), '--')"
   ]
  },
  {
   "cell_type": "code",
   "execution_count": null,
   "id": "f971e7db",
   "metadata": {
    "scrolled": true
   },
   "outputs": [],
   "source": [
    "drawKepler(0.5, 3.14)"
   ]
  },
  {
   "cell_type": "markdown",
   "id": "1bc52b2c",
   "metadata": {},
   "source": [
    "尽管这个方程很简单, 但是较难有意义地解析求解. 所以在实际工作中, 我们一般考虑数值求解.  "
   ]
  },
  {
   "cell_type": "code",
   "execution_count": null,
   "id": "c38d58d1",
   "metadata": {},
   "outputs": [],
   "source": [
    "a = 1\n",
    "x = np.linspace(0.05, 15, 100)\n",
    "\n",
    "def g1(x):\n",
    "    return x**2 + x - a\n",
    "\n",
    "def g2(x):\n",
    "    return a/x\n",
    "\n",
    "def g3(x):\n",
    "    return 1/2*(x + a/x)\n",
    "\n",
    "# 用 fc-list 第一个英文名字\n",
    "matplotlib.rcParams['font.family'] = 'sans-serif'\n",
    "matplotlib.rcParams['font.sans-serif'] = ['WenQuanYi Zen Hei']  # 注意大小写和空格\n",
    "matplotlib.rcParams['axes.unicode_minus'] = False\n",
    "# 画图\n",
    "plt.figure(figsize=(6, 6))\n",
    "plt.plot(1, 1, marker='o', markersize=5, color='red')\n",
    "plt.plot(x, x, '--')\n",
    "plt.plot(x, g1(x), label=\"$g_1$\")\n",
    "plt.plot(x, g2(x), label=\"$g_2$\")\n",
    "plt.plot(x, g3(x), label=\"$g_3$\")\n",
    "plt.gca().set_aspect('equal', adjustable='box')\n",
    "plt.xlim(0, 5)\n",
    "plt.ylim(0, 5)\n",
    "plt.grid(True, alpha=0.3)\n",
    "plt.legend()\n",
    "plt.show()"
   ]
  },
  {
   "cell_type": "code",
   "execution_count": null,
   "id": "fe4557f5-23f5-4b33-b030-07125f9a4d64",
   "metadata": {},
   "outputs": [],
   "source": [
    "plt.figure(figsize=(6, 6))\n",
    "plt.plot(1, 1, marker='o', markersize=5, color='red')\n",
    "plt.plot(x, x, '--')\n",
    "plt.plot(x, g1(x))\n",
    "plt.plot([2, 2, g1(2), g1(2)], [0, g1(2), g1(2), g1(g1(2))])\n",
    "\n",
    "plt.gca().set_aspect('equal', adjustable='box')\n",
    "plt.xlim(0, 15)\n",
    "plt.ylim(0, 15)\n",
    "plt.title(\"$g_1$ diverges\")\n",
    "plt.grid(True, alpha=0.3)\n",
    "plt.show()"
   ]
  },
  {
   "cell_type": "code",
   "execution_count": null,
   "id": "00bfdc5a-50fd-4e10-8f9b-9aa6b916e1cd",
   "metadata": {},
   "outputs": [],
   "source": [
    "plt.figure(figsize=(6, 6))\n",
    "plt.plot(1, 1, marker='o', markersize=5, color='red')\n",
    "plt.plot(x, x, '--')\n",
    "plt.plot(x, g2(x))\n",
    "plt.plot([2, 2, g2(2), g2(2)], [0, g2(2), g2(2), g2(g2(2))])\n",
    "\n",
    "plt.gca().set_aspect('equal', adjustable='box')\n",
    "plt.xlim(0, 5)\n",
    "plt.ylim(0, 5)\n",
    "plt.title(\"$g_2$ oscillates\")\n",
    "plt.grid(True, alpha=0.3)\n",
    "plt.show()"
   ]
  },
  {
   "cell_type": "code",
   "execution_count": null,
   "id": "ae39f06f-00e3-4d76-a1ef-74fe2300ce7e",
   "metadata": {},
   "outputs": [],
   "source": [
    "plt.figure(figsize=(6, 6))\n",
    "plt.plot(1, 1, marker='o', markersize=5, color='red')\n",
    "plt.plot(x, x, '--')\n",
    "plt.plot(x, g3(x))\n",
    "plt.plot([2, 2, g3(2), g3(2), g3(g3(2))], [0, g3(2), g3(2), g3(g3(2)), g3(g3(2))])\n",
    "\n",
    "plt.gca().set_aspect('equal', adjustable='box')\n",
    "plt.xlim(0, 5)\n",
    "plt.ylim(0, 5)\n",
    "plt.title(\"$g_3$ converges\")\n",
    "plt.grid(True, alpha=0.3)\n",
    "plt.show()"
   ]
  },
  {
   "cell_type": "code",
   "execution_count": null,
   "id": "dabbfe5f-0681-4ae8-bfdb-50c562575b63",
   "metadata": {},
   "outputs": [],
   "source": []
  }
 ],
 "metadata": {
  "kernelspec": {
   "display_name": "Python 3 (ipykernel)",
   "language": "python",
   "name": "python3"
  },
  "language_info": {
   "codemirror_mode": {
    "name": "ipython",
    "version": 3
   },
   "file_extension": ".py",
   "mimetype": "text/x-python",
   "name": "python",
   "nbconvert_exporter": "python",
   "pygments_lexer": "ipython3",
   "version": "3.12.11"
  }
 },
 "nbformat": 4,
 "nbformat_minor": 5
}
