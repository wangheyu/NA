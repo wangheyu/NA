{
 "cells": [
  {
   "cell_type": "code",
   "execution_count": null,
   "id": "c7188534",
   "metadata": {},
   "outputs": [],
   "source": [
    "import numpy as np\n",
    "from matplotlib import pyplot as plt"
   ]
  },
  {
   "cell_type": "code",
   "execution_count": null,
   "id": "75359ff1",
   "metadata": {},
   "outputs": [],
   "source": [
    "N = 100\n",
    "n = 5\n",
    "x = np.linspace(0, np.pi, N)\n",
    "xp = np.linspace(0, np.pi, n)\n",
    "y = np.sin(x)\n",
    "yp = np.sin(xp)\n",
    "z = np.zeros(N)\n",
    "zp = np.zeros(n)\n",
    "o = np.ones(N)\n",
    "op = np.ones(n)"
   ]
  },
  {
   "cell_type": "code",
   "execution_count": null,
   "id": "b21fa7c1",
   "metadata": {},
   "outputs": [],
   "source": [
    "plt.plot(x, y, 'r--')\n",
    "plt.plot(xp, yp, 'o')"
   ]
  },
  {
   "cell_type": "code",
   "execution_count": null,
   "id": "9debd34b",
   "metadata": {},
   "outputs": [],
   "source": [
    "def lag(xp, x, i):\n",
    "    r1 = np.prod(np.array(x) - [*xp[0:i], *xp[i + 1:]])\n",
    "    r2 = np.prod(xp[i] - [*xp[0:i], *xp[i + 1:]])\n",
    "    return r1 / r2"
   ]
  },
  {
   "cell_type": "code",
   "execution_count": null,
   "id": "e7104469",
   "metadata": {},
   "outputs": [],
   "source": [
    "N = len(x)\n",
    "l0 = np.zeros(N)\n",
    "for i in range(0, N):\n",
    "    l0[i] = lag(xp, x[i], 0)    "
   ]
  },
  {
   "cell_type": "code",
   "execution_count": null,
   "id": "be736107",
   "metadata": {},
   "outputs": [],
   "source": [
    "plt.plot(x, y, 'r--')\n",
    "plt.plot(xp, yp, 'ro')\n",
    "plt.plot(x, z, 'b--')\n",
    "plt.plot(xp, zp, 'bo')\n",
    "plt.plot(x, o, 'k--')\n",
    "plt.plot(xp, op, 'ko')\n",
    "plt.plot(x, l0)"
   ]
  },
  {
   "cell_type": "code",
   "execution_count": null,
   "id": "3c33f593",
   "metadata": {},
   "outputs": [],
   "source": [
    "l1 = np.zeros(N)\n",
    "for i in range(0, N):\n",
    "    l1[i] = lag(xp, x[i], 1)\n",
    "l2 = np.zeros(N)\n",
    "for i in range(0, N):\n",
    "    l2[i] = lag(xp, x[i], 2)\n",
    "l3 = np.zeros(N)\n",
    "for i in range(0, N):\n",
    "    l3[i] = lag(xp, x[i], 3)\n",
    "l4 = np.zeros(N)\n",
    "for i in range(0, N):\n",
    "    l4[i] = lag(xp, x[i], 4)   "
   ]
  },
  {
   "cell_type": "code",
   "execution_count": null,
   "id": "f8a94b3d",
   "metadata": {},
   "outputs": [],
   "source": [
    "plt.plot(x, y, 'r--')\n",
    "plt.plot(xp, yp, 'ro')\n",
    "plt.plot(x, z, 'b--')\n",
    "plt.plot(xp, zp, 'bo')\n",
    "plt.plot(x, o, 'k--')\n",
    "plt.plot(xp, op, 'ko')\n",
    "plt.plot(x, l0)\n",
    "plt.plot(x, l1)\n",
    "plt.plot(x, l2)\n",
    "plt.plot(x, l3)\n",
    "plt.plot(x, l4)"
   ]
  },
  {
   "cell_type": "code",
   "execution_count": null,
   "id": "2d00d875",
   "metadata": {},
   "outputs": [],
   "source": [
    "def Runge(x):\n",
    "    return 1.0 / (1.0 + x**2)"
   ]
  },
  {
   "cell_type": "code",
   "execution_count": null,
   "id": "ac9d72e7",
   "metadata": {},
   "outputs": [],
   "source": [
    "n = 10\n",
    "xp = np.linspace(-5, 5, n)\n",
    "yp = Runge(xp)\n",
    "l = np.zeros((n, N))\n",
    "x = np.linspace(-5, 5, N)\n",
    "for i in range(0, n):\n",
    "    for j in range(0, N):\n",
    "        l[i][j] = lag(xp, x[j], i)\n",
    "y = np.zeros(N)\n",
    "for j in range(0, N):\n",
    "    for i in range(0, n):\n",
    "        y[j] = y[j] +  l[i][j] * yp[i]   "
   ]
  },
  {
   "cell_type": "code",
   "execution_count": null,
   "id": "4f703b14",
   "metadata": {},
   "outputs": [],
   "source": [
    "plt.plot(x, Runge(x), '--')\n",
    "plt.plot(x, y, 'b')\n",
    "plt.plot(xp, yp, 'ro')"
   ]
  },
  {
   "cell_type": "code",
   "execution_count": null,
   "id": "a96cfc82",
   "metadata": {
    "scrolled": true
   },
   "outputs": [],
   "source": [
    "n = 10\n",
    "xp = np.linspace(-1, 1, n)\n",
    "l = np.zeros((n, N))\n",
    "x = np.linspace(-1, 1, N)\n",
    "for i in range(0, n):\n",
    "    for j in range(0, N):\n",
    "        l[i][j] = lag(xp, x[j], i)\n",
    "zp = np.zeros(n)\n",
    "op = np.ones(n)\n",
    "for i in range(n):\n",
    "    plt.plot(x, l[i])\n",
    "plt.plot(xp, zp, 'bo')\n",
    "plt.plot(xp, op, 'bo')\n",
    "T = np.cos(n * np.arccos(x))\n",
    "plt.plot(x, T, 'k--')"
   ]
  },
  {
   "cell_type": "code",
   "execution_count": null,
   "id": "1e24406e",
   "metadata": {},
   "outputs": [],
   "source": [
    "for i in range(n):\n",
    "    xp[i] = np.cos((2 * i + 1) / (2 * n) * np.pi)\n",
    "for i in range(0, n):\n",
    "    for j in range(0, N):\n",
    "        l[i][j] = lag(xp, x[j], i)\n",
    "for i in range(n):\n",
    "    plt.plot(x, l[i])\n",
    "plt.plot(xp, zp, 'bo')\n",
    "plt.plot(xp, op, 'bo')"
   ]
  },
  {
   "cell_type": "code",
   "execution_count": null,
   "id": "1c8ac41d",
   "metadata": {},
   "outputs": [],
   "source": [
    "yp = Runge(xp)\n",
    "y = np.zeros(N)\n",
    "for j in range(0, N):\n",
    "    for i in range(0, n):\n",
    "        y[j] = y[j] +  l[i][j] * yp[i]    "
   ]
  },
  {
   "cell_type": "code",
   "execution_count": null,
   "id": "2127de40",
   "metadata": {},
   "outputs": [],
   "source": [
    "plt.plot(x, Runge(x), '--')\n",
    "plt.plot(x, y, 'b')\n",
    "plt.plot(xp, yp, 'ro')"
   ]
  },
  {
   "cell_type": "code",
   "execution_count": null,
   "id": "8fe7cee8",
   "metadata": {},
   "outputs": [],
   "source": [
    "plt.plot(x, np.abs(Runge(x) - y))"
   ]
  },
  {
   "cell_type": "markdown",
   "id": "18d274af",
   "metadata": {},
   "source": [
    "观察一下分段线性插值, 就是把插值区间分割成很多小区间, 每一个小区间上都做一个线性(1次)多项式插值:"
   ]
  },
  {
   "cell_type": "code",
   "execution_count": null,
   "id": "2e7e8758",
   "metadata": {},
   "outputs": [],
   "source": [
    "from scipy.interpolate import interp1d"
   ]
  },
  {
   "cell_type": "code",
   "execution_count": null,
   "id": "88643c0b",
   "metadata": {},
   "outputs": [],
   "source": [
    "x = np.linspace(0, 10, num=11, endpoint=True)\n",
    "y = np.cos(-x**2/9.0)\n",
    "f = interp1d(x, y)"
   ]
  },
  {
   "cell_type": "code",
   "execution_count": null,
   "id": "e362826e",
   "metadata": {},
   "outputs": [],
   "source": [
    "xnew = np.linspace(0, 10, num=41, endpoint=True)\n",
    "ynew = np.cos(-xnew**2/9.0)\n",
    "plt.plot(x, y, 'o', xnew, f(xnew), '-', xnew, ynew, '--')\n",
    "plt.legend(['data', 'linear', 'real'], loc='best')\n",
    "plt.show()"
   ]
  },
  {
   "cell_type": "markdown",
   "id": "f3088431",
   "metadata": {},
   "source": [
    "在小区间的端点上, 导数不连续, 但随着小区间的加细, 一致收敛性是显然的, 这种方式经常用于计算机绘图. "
   ]
  },
  {
   "cell_type": "code",
   "execution_count": null,
   "id": "11f6cb00",
   "metadata": {},
   "outputs": [],
   "source": [
    "x = np.linspace(0, 10, num=41, endpoint=True)\n",
    "y = np.cos(-x**2/9.0)\n",
    "f = interp1d(x, y)\n",
    "xnew = np.linspace(0, 10, num=401, endpoint=True)\n",
    "ynew = np.cos(-xnew**2/9.0)\n",
    "plt.plot(x, y, 'o', xnew, f(xnew), '-', xnew, ynew, '--')\n",
    "plt.legend(['data', 'linear', 'real'], loc='best')\n",
    "plt.show()"
   ]
  },
  {
   "cell_type": "markdown",
   "id": "45681d2f",
   "metadata": {},
   "source": [
    "观察一下这个误差分布, 合理么?"
   ]
  },
  {
   "cell_type": "code",
   "execution_count": null,
   "id": "42440174",
   "metadata": {},
   "outputs": [],
   "source": [
    "plt.plot(x, f(x) - y, 'o', xnew, f(xnew) - ynew, '-')\n",
    "plt.legend(['data', 'error'], loc='best')\n",
    "plt.show()"
   ]
  },
  {
   "cell_type": "markdown",
   "id": "7fc60643",
   "metadata": {},
   "source": [
    "先看一下分段线性逼近对 Runge 函数, "
   ]
  },
  {
   "cell_type": "code",
   "execution_count": null,
   "id": "b12ba632",
   "metadata": {},
   "outputs": [],
   "source": [
    "x = np.linspace(-10, 10, num=11, endpoint=True)\n",
    "y = Runge(x)\n",
    "f = interp1d(x, y)\n",
    "xnew = np.linspace(-10, 10, num=401, endpoint=True)\n",
    "ynew = Runge(xnew)\n",
    "plt.plot(x, y, 'o', xnew, f(xnew), '-', xnew, ynew, '--')\n",
    "plt.legend(['data', 'linear', 'real'], loc='best')\n",
    "plt.show()"
   ]
  },
  {
   "cell_type": "markdown",
   "id": "c5d1bcb5",
   "metadata": {},
   "source": [
    "好在还是一致收敛的."
   ]
  },
  {
   "cell_type": "code",
   "execution_count": null,
   "id": "b8c27892",
   "metadata": {},
   "outputs": [],
   "source": [
    "x = np.linspace(-10, 10, num=101, endpoint=True)\n",
    "y = Runge(x)\n",
    "f = interp1d(x, y)\n",
    "xnew = np.linspace(-10, 10, num=401, endpoint=True)\n",
    "ynew = Runge(xnew)\n",
    "plt.plot(x, y, 'o', xnew, f(xnew), '-', xnew, ynew, '--')\n",
    "plt.legend(['data', 'linear', 'real'], loc='best')\n",
    "plt.show()"
   ]
  },
  {
   "cell_type": "markdown",
   "id": "32b65482",
   "metadata": {},
   "source": [
    "误差也验证了."
   ]
  },
  {
   "cell_type": "code",
   "execution_count": null,
   "id": "195637fe",
   "metadata": {},
   "outputs": [],
   "source": [
    "plt.plot(x, f(x) - y, 'o', xnew, f(xnew) - ynew, '-')\n",
    "plt.legend(['data', 'error'], loc='best')\n",
    "plt.show()"
   ]
  },
  {
   "cell_type": "markdown",
   "id": "73c1b5ef",
   "metadata": {},
   "source": [
    "样条对 Runge 函数的拟合, 看出问题了么? 未必一定就很好啊."
   ]
  },
  {
   "cell_type": "code",
   "execution_count": null,
   "id": "ce6a3c64",
   "metadata": {},
   "outputs": [],
   "source": [
    "x = np.linspace(-10, 10, num=11, endpoint=True)\n",
    "y = Runge(x)\n",
    "f2 = interp1d(x, y, kind='cubic')\n",
    "plt.plot(x, y, 'o', xnew, f2(xnew), '-', xnew, ynew, '--')\n",
    "plt.legend(['data', 'cubic', 'real'], loc='best')\n",
    "plt.show()"
   ]
  },
  {
   "cell_type": "markdown",
   "id": "47fe01c1",
   "metadata": {},
   "source": [
    "注意这个不是 Runge 现象, 这个其实更像是为了平衡应力, 样条不得不扭曲起来, 因为这里应力过大, 不扭曲没有足够的弹性力来平衡. 这里没有提供边界条件, 默认用的是非节点条件, 理论上自然样条会施放一些应力, 但实际上区别不大:"
   ]
  },
  {
   "cell_type": "code",
   "execution_count": null,
   "id": "8b04c333",
   "metadata": {},
   "outputs": [],
   "source": [
    "from scipy.interpolate import CubicSpline\n",
    "f3 = CubicSpline(x, y, bc_type='natural')\n",
    "plt.plot(x, y, 'o', xnew, f2(xnew), '-', xnew, ynew, '--')\n",
    "plt.legend(['data', 'cubic', 'real'], loc='best')\n",
    "plt.show()"
   ]
  },
  {
   "cell_type": "markdown",
   "id": "b0777f20",
   "metadata": {},
   "source": [
    "从区别看, 边界上确实有一些调整, 但中间还是一样地扭结. "
   ]
  },
  {
   "cell_type": "code",
   "execution_count": null,
   "id": "04938571",
   "metadata": {},
   "outputs": [],
   "source": [
    "plt.plot(x, f(x) - y, 'o', xnew, f2(xnew) - f3(xnew), '-')\n",
    "plt.legend(['data', 'error'], loc='best')\n",
    "plt.show()"
   ]
  },
  {
   "cell_type": "markdown",
   "id": "e6e66b11",
   "metadata": {},
   "source": [
    "好在不论什么样条, 加密了是一致收敛的."
   ]
  },
  {
   "cell_type": "code",
   "execution_count": null,
   "id": "74ab0679",
   "metadata": {},
   "outputs": [],
   "source": [
    "x = np.linspace(-10, 10, num=21, endpoint=True)\n",
    "y = Runge(x)\n",
    "f2 = CubicSpline(x, y)\n",
    "plt.plot(x, y, 'o', xnew, f2(xnew), '-', xnew, ynew, '--')\n",
    "plt.legend(['data', 'cubic', 'real'], loc='best')\n",
    "plt.show()"
   ]
  },
  {
   "cell_type": "markdown",
   "id": "ee9d4990",
   "metadata": {},
   "source": [
    "误差分布:"
   ]
  },
  {
   "cell_type": "code",
   "execution_count": null,
   "id": "b1ff0681",
   "metadata": {},
   "outputs": [],
   "source": [
    "plt.plot(x, f(x) - y, 'o', xnew, f2(xnew) - ynew, '-')\n",
    "plt.legend(['data', 'error'], loc='best')\n",
    "plt.show()"
   ]
  },
  {
   "cell_type": "markdown",
   "id": "214484d4",
   "metadata": {},
   "source": [
    "画个心形曲线, 参数方程如下:\n",
    "$$\n",
    "\\begin{array}{rcl}\n",
    "x &=& 16 \\sin^3 t \\\\\n",
    "y &=& 13 \\cos t - 5 \\cos 2t - 2 \\cos 3t  - \\cos 4t\n",
    "\\end{array}\n",
    "$$"
   ]
  },
  {
   "cell_type": "code",
   "execution_count": null,
   "id": "d7138a87",
   "metadata": {},
   "outputs": [],
   "source": [
    "t = np.linspace(0, 2.0 * np.pi, num=15, endpoint=True)\n",
    "x = 16.0 * np.sin(t) ** 3.0\n",
    "y = 13.0 * np.cos(t) - 5.0 * np.cos(2.0 * t) - 2.0 * np.cos(3.0 * t) - np.cos(4.0 * t)\n",
    "fx = CubicSpline(t, x, bc_type='periodic')\n",
    "fy = CubicSpline(t, y, bc_type='periodic')\n",
    "tnew = np.linspace(0, 2.0 * np.pi, num=401, endpoint=True)\n",
    "xnew = 16.0 * np.sin(tnew) ** 3.0\n",
    "ynew = 13.0 * np.cos(tnew) - 5.0 * np.cos(2.0 * tnew) - 2.0 * np.cos(3.0 * tnew) - np.cos(4.0 * tnew)\n",
    "plt.plot(x, y, 'o', xnew, ynew, 'g--', fx(tnew), fy(tnew), 'r')\n",
    "plt.show()"
   ]
  },
  {
   "cell_type": "markdown",
   "id": "a5707c2e",
   "metadata": {},
   "source": [
    "可以看到, 9 个型值点, 效果还不好, 但 11 个点效果就不错了. 而 15 个点几乎看不出有什么问题. 也就是说, 这样的一个比较复杂的曲线, 我们可以只存 11 个点把它还原的不错, 而且还能无级缩放不会失真, 也不会锯齿. "
   ]
  },
  {
   "cell_type": "code",
   "execution_count": null,
   "id": "be54125c",
   "metadata": {},
   "outputs": [],
   "source": []
  }
 ],
 "metadata": {
  "celltoolbar": "Raw Cell Format",
  "kernelspec": {
   "display_name": "Python 3 (ipykernel)",
   "language": "python",
   "name": "python3"
  },
  "language_info": {
   "codemirror_mode": {
    "name": "ipython",
    "version": 3
   },
   "file_extension": ".py",
   "mimetype": "text/x-python",
   "name": "python",
   "nbconvert_exporter": "python",
   "pygments_lexer": "ipython3",
   "version": "3.7.9"
  }
 },
 "nbformat": 4,
 "nbformat_minor": 5
}
