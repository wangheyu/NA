{
 "cells": [
  {
   "cell_type": "markdown",
   "id": "19f13cca-5b93-4ac6-8b3c-9b82b6a70adf",
   "metadata": {},
   "source": [
    "# 逐段三次样条 ($\\mathbb{S}_3^2$ Splne)"
   ]
  },
  {
   "cell_type": "code",
   "execution_count": null,
   "id": "45afed96-8e08-4f07-b0ff-c5051542a1b9",
   "metadata": {},
   "outputs": [],
   "source": [
    "import numpy as np  \n",
    "from scipy.interpolate import CubicSpline  \n",
    "import matplotlib.pyplot as plt  \n",
    "  \n",
    "# 准备数据点  \n",
    "x = np.array([0, 1, 2, 3, 4, 5])  \n",
    "y = np.array([0, 1, 4, 9, 16, 25])  \n",
    "  \n",
    "# 创建逐段三次样条对象  \n",
    "cs = CubicSpline(x, y)  \n",
    "  \n",
    "# 生成用于评估样条的细粒度x值  \n",
    "x_new = np.linspace(0, 5, 100)  \n",
    "  \n",
    "# 评估样条  \n",
    "y_new = cs(x_new)  \n",
    "  \n",
    "# 绘制结果  \n",
    "plt.figure(figsize=(8, 4))  \n",
    "plt.plot(x, y, 'o', label='Data Points')  \n",
    "plt.plot(x_new, y_new, label='Cubic Spline')  \n",
    "plt.legend()  \n",
    "plt.show()  "
   ]
  },
  {
   "cell_type": "code",
   "execution_count": null,
   "id": "fc8676b3-fef4-47e4-a115-f0bf64d8afe4",
   "metadata": {},
   "outputs": [],
   "source": [
    "def Runge(x):\n",
    "    return 1.0 / (1.0 + x**2)"
   ]
  },
  {
   "cell_type": "code",
   "execution_count": null,
   "id": "4559b16f-9a9a-4b59-b6af-772e372d94d3",
   "metadata": {},
   "outputs": [],
   "source": [
    "# 准备数据点  \n",
    "n = 5\n",
    "x = np.linspace(-5, 5, n)\n",
    "y = Runge(x)\n",
    "  \n",
    "# 创建逐段三次样条对象  \n",
    "cs = CubicSpline(x, y)  \n",
    "  \n",
    "# 生成用于评估样条的细粒度x值  \n",
    "x_new = np.linspace(-5, 5, 100)  \n",
    "  \n",
    "# 评估样条  \n",
    "y_new = cs(x_new)\n",
    "\n",
    "# 真解\n",
    "y_real = Runge(x_new)\n",
    "  \n",
    "# 绘制结果  \n",
    "plt.figure(figsize=(8, 4))  \n",
    "plt.plot(x, y, 'o', label='Data Points')  \n",
    "plt.plot(x_new, y_real, 'r--', label='Real Function')  \n",
    "plt.plot(x_new, y_new, label='Cubic Spline')  \n",
    "plt.legend()  \n",
    "plt.show()  "
   ]
  },
  {
   "cell_type": "code",
   "execution_count": null,
   "id": "14e9a7c9-c28d-4b3f-b100-7369b06cd428",
   "metadata": {},
   "outputs": [],
   "source": [
    "# 准备数据点  \n",
    "n = 17\n",
    "x = np.linspace(-5, 5, n)\n",
    "y = Runge(x)\n",
    "  \n",
    "# D1 边界条件\n",
    "start_derivative = 10.0 / 26.0**2 \n",
    "end_derivative = -start_derivative\n",
    "\n",
    "# 创建逐段三次样条对象  \n",
    "cs = CubicSpline(x, y, bc_type=('clamped'))  \n",
    "  \n",
    "# 生成用于评估样条的细粒度x值  \n",
    "x_new = np.linspace(-5, 5, 100)  \n",
    "  \n",
    "# 评估样条  \n",
    "y_new = cs(x_new)\n",
    "\n",
    "# 真解\n",
    "y_real = Runge(x_new)\n",
    "\n",
    "  \n",
    "# 绘制结果  \n",
    "plt.figure(figsize=(8, 4))  \n",
    "plt.plot(x, y, 'o', label='Data Points')  \n",
    "plt.plot(x_new, y_real, 'r--', label='Real Function')  \n",
    "plt.plot(x_new, y_new, label='Cubic Spline')  \n",
    "plt.legend()  \n",
    "plt.show() \n",
    "# 指定起点和终点的导数  \n"
   ]
  },
  {
   "cell_type": "markdown",
   "id": "a2cd37ef-a61b-4573-b3cb-7bea516bb268",
   "metadata": {},
   "source": [
    "# B-Spline\n",
    "\n",
    "现在我们严格按照讲义定义做一些测试, 先构建 B-样条基函数 :"
   ]
  },
  {
   "cell_type": "code",
   "execution_count": null,
   "id": "8af59ff6-2cad-476a-8d18-0feb524f3be6",
   "metadata": {},
   "outputs": [],
   "source": [
    "?CubicSpline"
   ]
  },
  {
   "cell_type": "code",
   "execution_count": null,
   "id": "7514abd4-812a-4a80-b28c-d722d9245b7d",
   "metadata": {},
   "outputs": [],
   "source": [
    "def Bspline(n, i, x):\n",
    "    if (n == 0):\n",
    "        return (x > i - 1) * (x <= i) * 1.0\n",
    "    else:\n",
    "        return (x - i + 1) / n * Bspline(n - 1, i, x) + (i + n - x) / n * Bspline(n - 1, i + 1, x)"
   ]
  },
  {
   "cell_type": "code",
   "execution_count": null,
   "id": "c08c513e-4bc7-483b-b438-b3ed673203cf",
   "metadata": {},
   "outputs": [],
   "source": [
    "x = np.linspace(0, 10, 1000)\n",
    "Z = np.linspace(0, 10, 11)"
   ]
  },
  {
   "cell_type": "markdown",
   "id": "c3c4daa5-7aee-4c69-97f4-a217004763f7",
   "metadata": {},
   "source": [
    "$B_i^0$ 是支撑在 $(t_{i - 1}, t_i)$ 上的："
   ]
  },
  {
   "cell_type": "code",
   "execution_count": null,
   "id": "5836f6bb-c76f-444b-9122-fd8fe19ff9ab",
   "metadata": {},
   "outputs": [],
   "source": [
    "n = 0\n",
    "plt.plot(Z, np.zeros(len(Z)), 'o')\n",
    "i = 1\n",
    "plt.plot(x, Bspline(n, 1, x), label=f'$B_{i}^{n}$')\n",
    "i = 5\n",
    "plt.plot(x, Bspline(n, 5, x), label=f'$B_{i}^{n}$')\n",
    "plt.legend()  "
   ]
  },
  {
   "cell_type": "markdown",
   "id": "490417cb-9209-4625-9c02-87db0d6f3dd7",
   "metadata": {},
   "source": [
    "所以考虑一下为什么说\n",
    "$$\n",
    "\\sum_{i = -\\infty}^{\\infty} B_i^0 = 1.\n",
    "$$\n",
    "以及这个无穷求和的实际意义。然后 $B_i^1$ 是支撑在 $(t_{i - 1}, t_{i + 1})$ 上的："
   ]
  },
  {
   "cell_type": "code",
   "execution_count": null,
   "id": "75ea4acc-bcca-4976-9276-957a04aa884e",
   "metadata": {},
   "outputs": [],
   "source": [
    "n = 1\n",
    "plt.plot(Z, np.zeros(len(Z)), 'o')\n",
    "i = 1\n",
    "plt.plot(x, Bspline(n, 1, x), label=f'$B_{i}^{n}$')\n",
    "i = 2\n",
    "plt.plot(x, Bspline(n, 2, x), label=f'$B_{i}^{n}$')\n",
    "#plt.plot(x, Bspline(n, 1, x) + Bspline(n, 2, x), label=f'$B_{i}^{n}$')\n",
    "plt.legend()  "
   ]
  },
  {
   "cell_type": "markdown",
   "id": "54ce6ed9-743b-4841-81b8-73059d71d288",
   "metadata": {},
   "source": [
    "$B_i^2$ 是支撑在 $(t_{i - 1}, t_{i + 2})$ 上的："
   ]
  },
  {
   "cell_type": "code",
   "execution_count": null,
   "id": "2f667bbf-c0c0-4276-8be4-2277e063c00c",
   "metadata": {},
   "outputs": [],
   "source": [
    "n = 2\n",
    "plt.plot(Z, np.zeros(len(Z)), 'o')\n",
    "i = 1\n",
    "plt.plot(x, Bspline(n, 1, x), label=f'$B_{i}^{n}$')\n",
    "i = 2\n",
    "plt.plot(x, Bspline(n, i, x), label=f'$B_{i}^{n}$')\n",
    "i = 3\n",
    "plt.plot(x, Bspline(n, i, x), label=f'$B_{i}^{n}$')\n",
    "i = 4\n",
    "plt.plot(x, Bspline(n, i, x), label=f'$B_{i}^{n}$')\n",
    "#plt.plot(x, Bspline(n, 1, x)+Bspline(n, 2, x)+Bspline(n, 3, x), label=f'$B_{i}^{n}$')\n",
    "plt.legend()  "
   ]
  },
  {
   "cell_type": "markdown",
   "id": "b8f6c112-1cf6-4075-9534-918b01a66af0",
   "metadata": {},
   "source": [
    "现在我们可以考虑一下，$B_i^n$ 是支撑在 $(t_{i - 1}, t_{i + n})$ 上的："
   ]
  },
  {
   "cell_type": "code",
   "execution_count": null,
   "id": "8b5c1d2b-37ef-4210-8746-3f9021ccc465",
   "metadata": {},
   "outputs": [],
   "source": [
    "n = 5\n",
    "plt.plot(Z, np.zeros(len(Z)), 'o')\n",
    "i = 1\n",
    "plt.plot(x, Bspline(n, 1, x), label=f'$B_{i}^{n}$')\n",
    "i = 5\n",
    "plt.plot(x, Bspline(n, 5, x), label=f'$B_{i}^{n}$')\n",
    "plt.legend()  "
   ]
  },
  {
   "cell_type": "markdown",
   "id": "8d6c4e8c-5c3c-4e23-9535-6a650c09b04a",
   "metadata": {},
   "source": [
    "以及推论 3.52 含义，内部的基是对称的。比如这里我们看到基确实都是对称的。"
   ]
  },
  {
   "cell_type": "code",
   "execution_count": null,
   "id": "9941ee65-5ef7-4ae6-a43e-d414bd41ebf9",
   "metadata": {},
   "outputs": [],
   "source": [
    "plt.plot(Z, np.zeros(len(Z)), 'o')\n",
    "i = 1\n",
    "plt.plot(x, Bspline(n, 1, x), label=f'$B_{i}^{n}(x)$')\n",
    "plt.plot(x, Bspline(n, 1, n + 1 - x), '--',label=f'$B_{i}^{n}(2\\\\cdot{i} + {n} - 1 - x)$')\n",
    "plt.legend()  "
   ]
  },
  {
   "cell_type": "markdown",
   "id": "3a6b4197-c02e-4d31-96c1-ea022a49a3e9",
   "metadata": {},
   "source": [
    "在边界上，支撑会不同，因此失去对称性。想想 $B_i^1$ 在 $\\mathbb{S}_1^0$ 中的情况。现在我们可以验证例 3.53."
   ]
  },
  {
   "cell_type": "code",
   "execution_count": null,
   "id": "20e1da04-4580-4b5b-bd0e-f9ffae7109b0",
   "metadata": {},
   "outputs": [],
   "source": [
    "n = 2\n",
    "plt.plot(Z, np.zeros(len(Z)), 'o')\n",
    "i = 1\n",
    "plt.plot(x, Bspline(n, 1, x), label=f'$B_{i}^{n}$')\n",
    "plt.plot(1, 0.5, 'o')\n",
    "plt.plot(2, 0.5, 'o')\n",
    "plt.plot(1.5, 3/4, 'o')\n",
    "i = 5\n",
    "plt.plot(x, Bspline(n, 5, x), label=f'$B_{i}^{n}$')\n",
    "plt.legend()  "
   ]
  },
  {
   "cell_type": "markdown",
   "id": "04060d6b-ef5c-4fc7-a156-e373f297be1c",
   "metadata": {},
   "source": [
    "现在我们可以验证例 3.54."
   ]
  },
  {
   "cell_type": "code",
   "execution_count": null,
   "id": "789b12bb-11d3-4306-ad0f-feada67df9ac",
   "metadata": {},
   "outputs": [],
   "source": [
    "n = 3\n",
    "plt.plot(Z, np.zeros(len(Z)), 'o')\n",
    "i = 1\n",
    "plt.plot(x, Bspline(n, 1, x), label=f'$B_{i}^{n}$')\n",
    "plt.plot(1, 1/6, 'o')\n",
    "plt.plot(2, 2/3, 'o')\n",
    "plt.plot(3, 1/6, 'o')  # 推论 3.52 \n",
    "i = 5\n",
    "plt.plot(x, Bspline(n, 5, x), label=f'$B_{i}^{n}$')\n",
    "plt.legend()  "
   ]
  },
  {
   "cell_type": "markdown",
   "id": "6ba7b532-208b-4929-ad7d-631cae965a1a",
   "metadata": {},
   "source": [
    "下面拼装一下 S32 样条。参照课本定理 3.57，在节点 $1, 2, \\ldots, 10$ 上拼装。"
   ]
  },
  {
   "cell_type": "code",
   "execution_count": null,
   "id": "166f07ae-cd4e-4afa-b9c4-4cb02c8ad909",
   "metadata": {},
   "outputs": [],
   "source": [
    "# 目标函数\n",
    "def func(x):\n",
    "    return np.sin(x)\n",
    "\n",
    "# 导数\n",
    "def dfunc(x):\n",
    "    return np.cos(x)\n",
    "\n",
    "# 节点数\n",
    "N = 10\n",
    "\n",
    "# 构建三对角矩阵 M\n",
    "U = np.diag(np.ones(N - 1), 1)\n",
    "D = np.ones(N) * 4\n",
    "D[0] = D[-1] = 2\n",
    "L = np.transpose(U)\n",
    "M = np.diag(D) + U + L\n",
    "\n",
    "# 构建右端项 b\n",
    "b = [func(i) * 6 for i in range(1, N + 1, 1)]\n",
    "\n",
    "# 应用边界条件 D1\n",
    "b[0] = 3 * func(1) + dfunc(1)\n",
    "b[-1] = 3 * func(10) - dfunc(10)\n",
    "\n",
    "# 解出内部基组合系数 a\n",
    "a = np.linalg.solve(M,b)\n",
    "\n",
    "# 补上边界系数\n",
    "s = np.zeros(len(a) + 2)\n",
    "s[1:-1] = a\n",
    "s[0] = s[2] - 2 * dfunc(1)\n",
    "s[-1] = s[-3] + 2 * dfunc(10)\n",
    "\n",
    "# 拼装样条，低效！\n",
    "def S32(x):\n",
    "    S = 0\n",
    "    for i in range(-1,11):\n",
    "        S = S + s[i + 1] * Bspline(3, i, x)\n",
    "    return S\n",
    "\n",
    "# 绘制拟合结果\n",
    "plt.plot(x, S32(x), x, func(x), 'r--')\n",
    "# plt.plot(range(0,11,1),np.zeros(11), 'o')\n",
    "t = range(1,11,1)\n",
    "plt.plot(t, func(t), 'o')"
   ]
  },
  {
   "cell_type": "markdown",
   "id": "37541695-038f-4dab-897e-d326e4e78099",
   "metadata": {},
   "source": [
    "注意标出了拟合节点。"
   ]
  },
  {
   "cell_type": "markdown",
   "id": "f5299ada-8ac9-4532-9a94-58c1b5404268",
   "metadata": {},
   "source": [
    "# $\\mathbb{S}_3^2$ 基数 B 样条的推导过程\n",
    "\n",
    "我们希望\n",
    "$$\n",
    "S(x) = \\sum_{i=-\\infty}^\\infty a_i B_{i, \\mathbb{Z}}^3(x),\n",
    "$$\n",
    "满足 $f(i) = S(i)$, 这里 $i$ 是一组整数点。为直观，我们不妨设 $i = 1, 2, 3, 4$. \n",
    "\n",
    "注意到 $ B_{i, \\mathbb{Z}}^3(x) $ 的支撑情况，在 $ x = i $ 点附近，总是只有 $3$ 个基函数会对 $f(i)$ 造成影响，比如在 $x = i = 3$ 附近，非零的基函数只有$B_{1, \\mathbb{Z}}^3(x)$, $B_{2, \\mathbb{Z}}^3(x)$ 和 $B_{3, \\mathbb{Z}}^3(x)$. 因此实际上只有\n",
    "$$\n",
    "f(i) = S(i) =  \\sum_{k = i - 2}^i a_k B_{k, \\mathbb{Z}}^3(x),\n",
    "$$\n",
    "下图，是 $i = 3$ 的支撑基函数。"
   ]
  },
  {
   "cell_type": "code",
   "execution_count": null,
   "id": "2ad640c8-9207-48a4-8505-ab124cca19b1",
   "metadata": {},
   "outputs": [],
   "source": [
    "n = 3\n",
    "plt.plot(Z, np.zeros(len(Z)), 'o')\n",
    "i = 1\n",
    "plt.plot(x, Bspline(n, i, x), label=f'$B_{i}^{n}$')\n",
    "plt.plot(1, 1/6, 'o')\n",
    "plt.plot(2, 2/3, 'o')\n",
    "plt.plot(3, 1/6, 'o')  # 推论 3.52 \n",
    "i = 2\n",
    "plt.plot(x, Bspline(n, i, x), label=f'$B_{i}^{n}$')\n",
    "plt.plot(1, 1/6, 'o')\n",
    "plt.plot(2, 2/3, 'o')\n",
    "plt.plot(3, 1/6, 'o')  # 推论 3.52 \n",
    "i = 3\n",
    "plt.plot(x, Bspline(n, i, x), label=f'$B_{i}^{n}$')\n",
    "plt.plot(1, 1/6, 'o')\n",
    "plt.plot(2, 2/3, 'o')\n",
    "plt.plot(3, 1/6, 'o')  # 推论 3.52\n",
    "plt.plot(3, 0, 'ro', label='$x = 3$')\n",
    "plt.legend()  \n",
    "plt.title('The non-zero basis around $x = 3$')"
   ]
  },
  {
   "cell_type": "markdown",
   "id": "2da40cfd-9894-489b-a212-a54337a17f7e",
   "metadata": {},
   "source": [
    "而对一组连续的样条节点，$1, 2, \\cdots, N$, 则有\n",
    "$$\n",
    "S(x) = \\sum_{i=-\\infty}^\\infty a_i B_{i, \\mathbb{Z}}^3(x) = \\sum_{i=-1}^N a_i B_{i, \\mathbb{Z}}^3(x), \\tag{3.71},\n",
    "$$\n",
    "个无穷求和真的只是一个记号而已。在我们具体的例子中，\n",
    "$$\n",
    "S(x) = a_{-1} B_{-1, \\mathbb{Z}}^3(x) + \\cdots + a_{4} B_{4, \\mathbb{Z}}^3(x).\n",
    "$$\n",
    "我们把所有相关的基函数都画出来："
   ]
  },
  {
   "cell_type": "code",
   "execution_count": null,
   "id": "d9e77c5a-ce99-4766-98ee-4bd982185dfc",
   "metadata": {},
   "outputs": [],
   "source": [
    "x = np.linspace(-2, 10, 1000)\n",
    "Z = np.linspace(-2, 10, 13)\n",
    "n = 3\n",
    "plt.plot(Z, np.zeros(len(Z)), 'o')\n",
    "plt.plot(Z[3:7], np.zeros(4), 'ro', label='knots')\n",
    "\n",
    "for i in range(-1, 5):\n",
    "    plt.plot(x, Bspline(n, i, x), label=f'$B_{i}^{n}$')\n",
    "plt.legend()  \n",
    "plt.title('The basis for $i = 1, 2, 3, 4.$')"
   ]
  },
  {
   "cell_type": "markdown",
   "id": "31ee1215-2e3b-4907-92a2-db97d8b90e8a",
   "metadata": {},
   "source": [
    "对内部点 $x = i = 2$, 有\n",
    "$$\n",
    "f(2) = S(2) = a_0 B_{0, \\mathbb{Z}}^3(2) + a_1 B_{1, \\mathbb{Z}}^3(2) + a_2 B_{0, \\mathbb{Z}}^3(2),\n",
    "$$\n",
    "而\n",
    "$$\n",
    "B_{0, \\mathbb{Z}}^3(2) = \\frac16, B_{1, \\mathbb{Z}}^3(2) = \\frac23, B_{2, \\mathbb{Z}}^3(2) = \\frac16,  \n",
    "$$\n",
    "因此确定一个方程：\n",
    "$$\n",
    "f(2) = \\frac16 a_0  + \\frac32 a_1 + \\frac16 a_2 \\Rightarrow a_0  + 4 a_1 + a_2 = 6 f(2).\n",
    "$$\n",
    "一般地，对内部节点：\n",
    "$$\n",
    "a_{i - 2}  + 4 a_{i - 1} + a_i = 6 f(i)， i = 2, 3, \\cdots, N - 1.\n",
    "$$\n",
    "这就是课本定理 3.57 的矩阵 $M$ 和右端向量 $b$ 的第 $2$ 到 $N - 1$ 行。"
   ]
  },
  {
   "cell_type": "markdown",
   "id": "ee0f35fd-fae5-4e74-933a-827fc074dd40",
   "metadata": {},
   "source": [
    "而在边上，有边界条件 $f'(1)$, 注意\n",
    "$$\n",
    "f(1) = S(1) = a_{-1} B_{-1, \\mathbb{Z}}^3(1) + a_0 B_{0, \\mathbb{Z}}^3(1) + a_1 B_{1, \\mathbb{Z}}^3(1),\n",
    "$$\n",
    "由\n",
    "$$ \n",
    "\\frac{d}{dx} B_{i, \\mathbb{Z}}^n(x) = B_{i, \\mathbb{Z}}^{n-1}(x) - B_{i+1, \\mathbb{Z}}^{n-1}(x). \\tag{3.74}\n",
    "$$\n",
    "得\n",
    "$$\n",
    "f'(1) = a_{-1} \\frac{d}{dx} B_{-1, \\mathbb{Z}}^3(1) + a_0 \\frac{d}{dx} B_{0, \\mathbb{Z}}^3(1) + a_1 \\frac{d}{dx} B_{1, \\mathbb{Z}}^3(1).\n",
    "$$\n",
    "其中\n",
    "$$\n",
    "\\frac{d}{dx} B_{-1, \\mathbb{Z}}^3(1) = B_{-1, \\mathbb{Z}}^2(1) - B_{0, \\mathbb{Z}}^2(1) = 0 - \\frac12 = -\\frac12,\n",
    "$$\n",
    "因为 $B_{i, \\mathbb{Z}}^2(x)$ 的支撑集是 $(i - 1, i + 2)$. 同理\n",
    "$$\n",
    "\\begin{array}{rcl}\n",
    "\\frac{d}{dx} B_{0, \\mathbb{Z}}^3(1) &=& B_{0, \\mathbb{Z}}^2(1) + B_{1, \\mathbb{Z}}^2(1) = \\frac12 - \\frac12 = 0,\\\\\n",
    "\\frac{d}{dx} B_{1, \\mathbb{Z}}^3(1) &=& B_{1, \\mathbb{Z}}^2(1) + B_{2, \\mathbb{Z}}^2(1) = \\frac12 - 0 = \\frac12.\n",
    "\\end{array}\n",
    "$$\n",
    "故\n",
    "$$\n",
    "f'(1) = -\\frac{1}{2}a_{-1} + \\frac{1}{2}a_1 \\Rightarrow a_{-1} = a_1 - 2 f'(1).\n",
    "$$\n",
    "即课本 (3.72) 前一公式. 后一公式类似. 再将此公式加到\n",
    "$$\n",
    "a_{-1}  + 4 a_{0} + a_1 = 6 f(1),\n",
    "$$\n",
    "即得\n",
    "$$\n",
    "2 a_{0}  + a_1 = 3 f(1) + f'(1),\n",
    "$$\n",
    "就是矩阵 $M$ 的第一行，最后一行类似可得。由此我们演示了完整的定理 3.57 的拼装过程。"
   ]
  },
  {
   "cell_type": "markdown",
   "id": "2d8c0688-40cf-4f79-ae93-29086dc8840b",
   "metadata": {},
   "source": [
    "以上过程是一个一般性过程。但定理 3.58 显示了一些灵活的变通。它是将同样的思路用于 $\\mathbb{S}_2^1$. 这里有一个问题，\n",
    "就是用于拼装的基函数是偶数个：\n",
    "$$\n",
    "f(i) = S(i) =  a_{i - 1} B_{i - 1, \\mathbb{Z}}^2(x) + a_{i} B_{i, \\mathbb{Z}}^2(x),\n",
    "$$\n"
   ]
  },
  {
   "cell_type": "code",
   "execution_count": null,
   "id": "ba80b94d-c72d-4e64-be6e-6f12797512f6",
   "metadata": {},
   "outputs": [],
   "source": [
    "n = 2\n",
    "plt.plot(Z, np.zeros(len(Z)), 'o')\n",
    "i = 2\n",
    "plt.plot(x, Bspline(n, i, x), label=f'$B_{i}^{n}$')\n",
    "i = 3\n",
    "plt.plot(x, Bspline(n, i, x), label=f'$B_{i}^{n}$')\n",
    "plt.plot(3, 0, 'ro', label='$x = 3$')\n",
    "plt.legend()  \n",
    "plt.title('The non-zero basis around $x = 3$')"
   ]
  },
  {
   "cell_type": "markdown",
   "id": "0273eef6",
   "metadata": {},
   "source": [
    "这里夹带点私货, 把我们接下去需要的三对角方程组求解器准备好, 也就是追赶法, 国外叫 Thomas 算法: "
   ]
  },
  {
   "cell_type": "code",
   "execution_count": null,
   "id": "dca0053a",
   "metadata": {},
   "outputs": [],
   "source": [
    "def Thomas(La, Mb, Uc, Rd):\n",
    "    # https://www.jianshu.com/p/ef2027568912\n",
    "    n=len(Mb)\n",
    "    c=np.zeros(n-1)\n",
    "    d=np.zeros(n)\n",
    "    c[0]=Uc[0]/Mb[0]\n",
    "    for i in range(1,n-1):\n",
    "        c[i]=Uc[i]/(Mb[i]-c[i-1]*La[i-1])\n",
    "    d[0]=Uc[0]/Mb[0]\n",
    "    for i in range(1,n):\n",
    "        d[i]=(Rd[i]-(d[i-1]*La[i-1]))/(Mb[i]-c[i-1]*La[i-1])\n",
    "    ls=list(range(n-1))[::-1]\n",
    "    x=np.zeros(n)\n",
    "    x[n-1]=d[n-1]\n",
    "    for i in ls:\n",
    "        x[i]=d[i]-c[i]*x[i+1]\n",
    "    return(x)"
   ]
  },
  {
   "cell_type": "markdown",
   "id": "248650e0",
   "metadata": {},
   "source": [
    "注意我这里每一次的 $B_{i, \\mathbb{Z}}^n$ 都重算了, 实际工作中, 可以算好存在那里. 一个问题是, 为什么我们的型值点是分布在 $[1, 15]$, 但是准确的拟合是 $[3, 15]$? 是有 bug 么?"
   ]
  },
  {
   "cell_type": "markdown",
   "id": "a77c0e47",
   "metadata": {},
   "source": [
    "**本程序仅供演示和理解算法使用, 严禁用于实际计算工作.**"
   ]
  },
  {
   "cell_type": "code",
   "execution_count": null,
   "id": "67e5b7fb-622d-4ce1-ab8a-d9c39b6a5d38",
   "metadata": {},
   "outputs": [],
   "source": []
  }
 ],
 "metadata": {
  "celltoolbar": "Raw Cell Format",
  "kernelspec": {
   "display_name": "Python 3 (ipykernel)",
   "language": "python",
   "name": "python3"
  },
  "language_info": {
   "codemirror_mode": {
    "name": "ipython",
    "version": 3
   },
   "file_extension": ".py",
   "mimetype": "text/x-python",
   "name": "python",
   "nbconvert_exporter": "python",
   "pygments_lexer": "ipython3",
   "version": "3.12.11"
  }
 },
 "nbformat": 4,
 "nbformat_minor": 5
}
